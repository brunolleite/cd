{
 "cells": [
  {
   "cell_type": "markdown",
   "metadata": {},
   "source": [
    "# Projeto 3 - Ciência dos Dados\n",
    "________\n",
    "\n",
    "### Elisa Malzoni e Bruno Leite"
   ]
  },
  {
   "cell_type": "markdown",
   "metadata": {
    "collapsed": true
   },
   "source": [
    "Após a decisão de trabalhar com expectativa de vida, procuramos variáveis diversas que se relacionam com a expectativa de vida. Os gráficos do GapMinder que nos chamaram atenção estão apresentados a seguir:"
   ]
  },
  {
   "cell_type": "markdown",
   "metadata": {},
   "source": [
    "<img src=\"rendaimg.png\">\n",
    "<img src=\"cpmimg.png\">\n",
    "<img src=\"fsimg.png\">\n",
    "<img src=\"mortcimg.png\">\n",
    "<img src=\"tfrimg.png\">"
   ]
  },
  {
   "cell_type": "markdown",
   "metadata": {},
   "source": [
    "Após a análise dos gráficos e pensando um pouco sobre a motivação do projeto, chegamos à seguinte pergunta: **Como as condições de vida das pessoas influenciam em suas respectivas expectativas de vida?**\n",
    "\n",
    "Com essa pergunta conseguimos escolher as duas variáveis que nos eram de maior interesse: renda per capta e suprimento alimentício."
   ]
  },
  {
   "cell_type": "code",
   "execution_count": 27,
   "metadata": {
    "collapsed": false
   },
   "outputs": [
    {
     "name": "stdout",
     "output_type": "stream",
     "text": [
      "Esperamos trabalhar no diretório\n",
      "C:\\Users\\Avell G1511 FIRE V3\\Documents\\GitHub\\CDP3\n"
     ]
    }
   ],
   "source": [
    "import os\n",
    "import matplotlib.pyplot as plt\n",
    "from mpl_toolkits.mplot3d import Axes3D\n",
    "from matplotlib import cm\n",
    "import pandas as pd\n",
    "import numpy as np\n",
    "\n",
    "import statsmodels.api as sm #Usa OLS com X como matriz de planejamento\n",
    "import statsmodels.formula.api as smf  #Usa OLS como no R\n",
    "\n",
    "print('Esperamos trabalhar no diretório')\n",
    "print(os.getcwd())"
   ]
  },
  {
   "cell_type": "code",
   "execution_count": 55,
   "metadata": {
    "collapsed": true
   },
   "outputs": [],
   "source": [
    "ExpVida = pd.read_excel('life.xlsx', index_col=0)\n",
    "PIB = pd.read_excel('gdp.xlsx', index_col=0)\n",
    "SupAli = pd.read_excel('food.xlsx', index_col=0)"
   ]
  },
  {
   "cell_type": "code",
   "execution_count": 56,
   "metadata": {
    "collapsed": true
   },
   "outputs": [],
   "source": [
    "dados = pd.DataFrame()"
   ]
  },
  {
   "cell_type": "code",
   "execution_count": 57,
   "metadata": {
    "collapsed": true
   },
   "outputs": [],
   "source": [
    "dados = ExpVida.join(PIB, how=\"outer\")\n",
    "dados = dados.join(SupAli, how=\"outer\")"
   ]
  },
  {
   "cell_type": "code",
   "execution_count": 58,
   "metadata": {
    "collapsed": false
   },
   "outputs": [],
   "source": [
    "dados = dados[~np.isnan(dados.ExpVida)]\n",
    "dados = dados[~np.isnan(dados.PIB)]\n",
    "dados = dados[~np.isnan(dados.SupAli)]"
   ]
  },
  {
   "cell_type": "code",
   "execution_count": 59,
   "metadata": {
    "collapsed": false,
    "scrolled": true
   },
   "outputs": [],
   "source": [
    "dados.PIB= np.log(dados.PIB)"
   ]
  },
  {
   "cell_type": "code",
   "execution_count": 60,
   "metadata": {
    "collapsed": false
   },
   "outputs": [
    {
     "data": {
      "text/html": [
       "<div>\n",
       "<table border=\"1\" class=\"dataframe\">\n",
       "  <thead>\n",
       "    <tr style=\"text-align: right;\">\n",
       "      <th></th>\n",
       "      <th>ExpVida</th>\n",
       "      <th>PIB</th>\n",
       "      <th>SupAli</th>\n",
       "    </tr>\n",
       "  </thead>\n",
       "  <tbody>\n",
       "    <tr>\n",
       "      <th>Albania</th>\n",
       "      <td>76.6</td>\n",
       "      <td>8.984318</td>\n",
       "      <td>2879.57</td>\n",
       "    </tr>\n",
       "    <tr>\n",
       "      <th>Algeria</th>\n",
       "      <td>75.3</td>\n",
       "      <td>9.416460</td>\n",
       "      <td>3153.38</td>\n",
       "    </tr>\n",
       "    <tr>\n",
       "      <th>Angola</th>\n",
       "      <td>56.2</td>\n",
       "      <td>8.772300</td>\n",
       "      <td>1973.29</td>\n",
       "    </tr>\n",
       "    <tr>\n",
       "      <th>Antigua and Barbuda</th>\n",
       "      <td>75.3</td>\n",
       "      <td>10.166159</td>\n",
       "      <td>2368.50</td>\n",
       "    </tr>\n",
       "    <tr>\n",
       "      <th>Argentina</th>\n",
       "      <td>75.2</td>\n",
       "      <td>9.537700</td>\n",
       "      <td>2940.98</td>\n",
       "    </tr>\n",
       "  </tbody>\n",
       "</table>\n",
       "</div>"
      ],
      "text/plain": [
       "                     ExpVida        PIB   SupAli\n",
       "Albania                 76.6   8.984318  2879.57\n",
       "Algeria                 75.3   9.416460  3153.38\n",
       "Angola                  56.2   8.772300  1973.29\n",
       "Antigua and Barbuda     75.3  10.166159  2368.50\n",
       "Argentina               75.2   9.537700  2940.98"
      ]
     },
     "execution_count": 60,
     "metadata": {},
     "output_type": "execute_result"
    }
   ],
   "source": [
    "dados.head()"
   ]
  },
  {
   "cell_type": "code",
   "execution_count": 34,
   "metadata": {
    "collapsed": false
   },
   "outputs": [
    {
     "name": "stdout",
     "output_type": "stream",
     "text": [
      "Correlação entre Expectativa de Vida e PIB/capita: 0.778006764401\n",
      "Correlação entre Expectativa de Vida e Suprimento de Alimento: 0.68106284291\n"
     ]
    },
    {
     "data": {
      "image/png": "[encoded data removed]",
      "text/plain": [
       "<matplotlib.figure.Figure at 0x1bc2a66b780>"
      ]
     },
     "metadata": {},
     "output_type": "display_data"
    }
   ],
   "source": [
    "%matplotlib inline\n",
    "f, ax = plt.subplots(1,2, figsize=(12,5))\n",
    "ax[0].scatter(dados.PIB, dados.ExpVida,c='cyan', alpha=0.8)\n",
    "ax[0].set_title('Expectativa de vida versus PIB/capita')\n",
    "ax[0].set_xlabel('PIB/capita, PPP$ com ajuste de inflação (ln)')\n",
    "ax[0].set_ylabel('anos')\n",
    "\n",
    "\n",
    "print(\"Correlação entre Expectativa de Vida e PIB/capita:\",np.corrcoef(dados.PIB, dados.ExpVida)[0,1])\n",
    "\n",
    "ax[1].scatter(dados.SupAli, dados.ExpVida,c='red', alpha=0.8)\n",
    "ax[1].set_title('Expectativa de vida versus Suprimento de Alimento')\n",
    "ax[1].set_xlabel('kcal/pessoa e dia')\n",
    "ax[1].set_ylabel('anos')\n",
    "\n",
    "\n",
    "print(\"Correlação entre Expectativa de Vida e Suprimento de Alimento:\",np.corrcoef(dados.SupAli, dados.ExpVida)[0,1])"
   ]
  },
  {
   "cell_type": "markdown",
   "metadata": {},
   "source": [
    "## Etapa 2\n",
    "______\n",
    "\n",
    "Regressão linear"
   ]
  },
  {
   "cell_type": "code",
   "execution_count": 35,
   "metadata": {
    "collapsed": false,
    "scrolled": true
   },
   "outputs": [],
   "source": [
    "def graph(formula, x_range):  \n",
    "    x = np.array(x_range)  \n",
    "    y = eval(formula)\n",
    "    plt.plot(x, y)  \n",
    "    plt.show()\n",
    "\n",
    "#MMQ\n",
    "#PIB/capita\n",
    "somaxy = 0\n",
    "somax = 0\n",
    "somay = 0\n",
    "somax2 = 0\n",
    "n= dados.count()[0]\n",
    "for i in range(n):\n",
    "    \n",
    "    somaxy += dados.PIB[i]*dados.ExpVida[i]\n",
    "    somax += dados.PIB[i]\n",
    "    somay +=dados.ExpVida[i]\n",
    "    somax2 += (dados.PIB[i])**2\n",
    "    \n",
    "b1 = ((n * somaxy) - (somax * somay))/((n*somax2) - (somax)**2)\n",
    "b0 = (somay - somax *b1)/n"
   ]
  },
  {
   "cell_type": "code",
   "execution_count": 36,
   "metadata": {
    "collapsed": false
   },
   "outputs": [
    {
     "name": "stdout",
     "output_type": "stream",
     "text": [
      "5.58880304928 19.350879676\n"
     ]
    }
   ],
   "source": [
    "print(b1, b0)"
   ]
  },
  {
   "cell_type": "code",
   "execution_count": 37,
   "metadata": {
    "collapsed": false
   },
   "outputs": [
    {
     "data": {
      "image/png": "[encoded data removed]",
      "text/plain": [
       "<matplotlib.figure.Figure at 0x1bc2ab5d470>"
      ]
     },
     "metadata": {},
     "output_type": "display_data"
    }
   ],
   "source": [
    "%matplotlib inline\n",
    "plt.scatter(dados.PIB, dados.ExpVida,c='cyan', alpha=0.8)\n",
    "plt.title('Expectativa de vida versus PIB/capita')\n",
    "plt.xlabel('PIB/capita, PPP$ com ajuste de inflação (ln)')\n",
    "plt.ylabel('anos')\n",
    "graph(\"b1*x + b0\", range(5,13))\n",
    "plt.show()"
   ]
  },
  {
   "cell_type": "code",
   "execution_count": 38,
   "metadata": {
    "collapsed": false
   },
   "outputs": [
    {
     "name": "stdout",
     "output_type": "stream",
     "text": [
      "0.0121334340063 36.163535465\n"
     ]
    }
   ],
   "source": [
    "#Suprimento Alimentício\n",
    "somaxyf = 0\n",
    "somaxf = 0\n",
    "somayf = 0\n",
    "somax2f = 0\n",
    "n= dados.count()[0]\n",
    "for i in range(n):\n",
    "    somaxyf += dados.SupAli[i]*dados.ExpVida[i]\n",
    "    somaxf += dados.SupAli[i]\n",
    "    somayf +=dados.ExpVida[i]\n",
    "    somax2f += (dados.SupAli[i])**2\n",
    "    \n",
    "b1f = ((n * somaxyf) - (somaxf * somayf))/((n*somax2f) - (somaxf)**2)\n",
    "b0f = (somayf - somaxf *b1f)/n\n",
    "print(b1f, b0f)"
   ]
  },
  {
   "cell_type": "code",
   "execution_count": 39,
   "metadata": {
    "collapsed": false
   },
   "outputs": [
    {
     "data": {
      "image/png": "[encoded data removed]",
      "text/plain": [
       "<matplotlib.figure.Figure at 0x1bc2a3b8198>"
      ]
     },
     "metadata": {},
     "output_type": "display_data"
    }
   ],
   "source": [
    "%matplotlib inline\n",
    "plt.scatter(dados.SupAli, dados.ExpVida,c='red', alpha=0.8)\n",
    "plt.title('Expectativa de vida versus Suprimento de Alimento')\n",
    "plt.xlabel('kcal/pessoa e dia')\n",
    "plt.ylabel('anos')\n",
    "graph(\"b1f*x + b0f\", range(1000,4000))\n",
    "plt.show()"
   ]
  },
  {
   "cell_type": "markdown",
   "metadata": {
    "collapsed": true
   },
   "source": [
    "## Etapa 3\n",
    "_______"
   ]
  },
  {
   "cell_type": "code",
   "execution_count": 40,
   "metadata": {
    "collapsed": false
   },
   "outputs": [
    {
     "data": {
      "text/html": [
       "<div>\n",
       "<table border=\"1\" class=\"dataframe\">\n",
       "  <thead>\n",
       "    <tr style=\"text-align: right;\">\n",
       "      <th></th>\n",
       "      <th>ExpVida</th>\n",
       "      <th>PIB</th>\n",
       "      <th>SupAli</th>\n",
       "    </tr>\n",
       "  </thead>\n",
       "  <tbody>\n",
       "    <tr>\n",
       "      <th>ExpVida</th>\n",
       "      <td>1.000000</td>\n",
       "      <td>0.778007</td>\n",
       "      <td>0.681063</td>\n",
       "    </tr>\n",
       "    <tr>\n",
       "      <th>PIB</th>\n",
       "      <td>0.778007</td>\n",
       "      <td>1.000000</td>\n",
       "      <td>0.782662</td>\n",
       "    </tr>\n",
       "    <tr>\n",
       "      <th>SupAli</th>\n",
       "      <td>0.681063</td>\n",
       "      <td>0.782662</td>\n",
       "      <td>1.000000</td>\n",
       "    </tr>\n",
       "  </tbody>\n",
       "</table>\n",
       "</div>"
      ],
      "text/plain": [
       "          ExpVida       PIB    SupAli\n",
       "ExpVida  1.000000  0.778007  0.681063\n",
       "PIB      0.778007  1.000000  0.782662\n",
       "SupAli   0.681063  0.782662  1.000000"
      ]
     },
     "execution_count": 40,
     "metadata": {},
     "output_type": "execute_result"
    }
   ],
   "source": [
    "dados.corr(method='pearson')"
   ]
  },
  {
   "cell_type": "code",
   "execution_count": 41,
   "metadata": {
    "collapsed": false
   },
   "outputs": [
    {
     "data": {
      "text/plain": [
       "count    163.000000\n",
       "mean      69.762577\n",
       "std        8.984438\n",
       "min       43.300000\n",
       "25%       63.500000\n",
       "50%       72.300000\n",
       "75%       76.700000\n",
       "max       82.400000\n",
       "Name: ExpVida, dtype: float64"
      ]
     },
     "execution_count": 41,
     "metadata": {},
     "output_type": "execute_result"
    }
   ],
   "source": [
    "dados.ExpVida.describe()"
   ]
  },
  {
   "cell_type": "code",
   "execution_count": 42,
   "metadata": {
    "collapsed": false
   },
   "outputs": [
    {
     "data": {
      "text/plain": [
       "count    163.000000\n",
       "mean       9.020124\n",
       "std        1.250707\n",
       "min        6.318968\n",
       "25%        7.963240\n",
       "50%        9.110188\n",
       "75%        9.972640\n",
       "max       11.474652\n",
       "Name: PIB, dtype: float64"
      ]
     },
     "execution_count": 42,
     "metadata": {},
     "output_type": "execute_result"
    }
   ],
   "source": [
    "dados.PIB.describe()"
   ]
  },
  {
   "cell_type": "code",
   "execution_count": 43,
   "metadata": {
    "collapsed": false
   },
   "outputs": [
    {
     "data": {
      "text/plain": [
       "count     163.000000\n",
       "mean     2769.128773\n",
       "std       504.306298\n",
       "min      1605.080000\n",
       "25%      2364.555000\n",
       "50%      2754.900000\n",
       "75%      3153.705000\n",
       "max      3818.800000\n",
       "Name: SupAli, dtype: float64"
      ]
     },
     "execution_count": 43,
     "metadata": {},
     "output_type": "execute_result"
    }
   ],
   "source": [
    "dados.SupAli.describe()"
   ]
  },
  {
   "cell_type": "markdown",
   "metadata": {},
   "source": [
    "# Modelo de Regressão Múltipla\n",
    "-------"
   ]
  },
  {
   "cell_type": "code",
   "execution_count": 100,
   "metadata": {
    "collapsed": false,
    "scrolled": false
   },
   "outputs": [
    {
     "data": {
      "application/javascript": [
       "/* Put everything inside the global mpl namespace */\n",
       "window.mpl = {};\n",
       "\n",
       "mpl.get_websocket_type = function() {\n",
       "    if (typeof(WebSocket) !== 'undefined') {\n",
       "        return WebSocket;\n",
       "    } else if (typeof(MozWebSocket) !== 'undefined') {\n",
       "        return MozWebSocket;\n",
       "    } else {\n",
       "        alert('Your browser does not have WebSocket support.' +\n",
       "              'Please try Chrome, Safari or Firefox ≥ 6. ' +\n",
       "              'Firefox 4 and 5 are also supported but you ' +\n",
       "              'have to enable WebSockets in about:config.');\n",
       "    };\n",
       "}\n",
       "\n",
       "mpl.figure = function(figure_id, websocket, ondownload, parent_element) {\n",
       "    this.id = figure_id;\n",
       "\n",
       "    this.ws = websocket;\n",
       "\n",
       "    this.supports_binary = (this.ws.binaryType != undefined);\n",
       "\n",
       "    if (!this.supports_binary) {\n",
       "        var warnings = document.getElementById(\"mpl-warnings\");\n",
       "        if (warnings) {\n",
       "            warnings.style.display = 'block';\n",
       "            warnings.textContent = (\n",
       "                \"This browser does not support binary websocket messages. \" +\n",
       "                    \"Performance may be slow.\");\n",
       "        }\n",
       "    }\n",
       "\n",
       "    this.imageObj = new Image();\n",
       "\n",
       "    this.context = undefined;\n",
       "    this.message = undefined;\n",
       "    this.canvas = undefined;\n",
       "    this.rubberband_canvas = undefined;\n",
       "    this.rubberband_context = undefined;\n",
       "    this.format_dropdown = undefined;\n",
       "\n",
       "    this.image_mode = 'full';\n",
       "\n",
       "    this.root = $('<div/>');\n",
       "    this._root_extra_style(this.root)\n",
       "    this.root.attr('style', 'display: inline-block');\n",
       "\n",
       "    $(parent_element).append(this.root);\n",
       "\n",
       "    this._init_header(this);\n",
       "    this._init_canvas(this);\n",
       "    this._init_toolbar(this);\n",
       "\n",
       "    var fig = this;\n",
       "\n",
       "    this.waiting = false;\n",
       "\n",
       "    this.ws.onopen =  function () {\n",
       "            fig.send_message(\"supports_binary\", {value: fig.supports_binary});\n",
       "            fig.send_message(\"send_image_mode\", {});\n",
       "            fig.send_message(\"refresh\", {});\n",
       "        }\n",
       "\n",
       "    this.imageObj.onload = function() {\n",
       "            if (fig.image_mode == 'full') {\n",
       "                // Full images could contain transparency (where diff images\n",
       "                // almost always do), so we need to clear the canvas so that\n",
       "                // there is no ghosting.\n",
       "                fig.context.clearRect(0, 0, fig.canvas.width, fig.canvas.height);\n",
       "            }\n",
       "            fig.context.drawImage(fig.imageObj, 0, 0);\n",
       "        };\n",
       "\n",
       "    this.imageObj.onunload = function() {\n",
       "        this.ws.close();\n",
       "    }\n",
       "\n",
       "    this.ws.onmessage = this._make_on_message_function(this);\n",
       "\n",
       "    this.ondownload = ondownload;\n",
       "}\n",
       "\n",
       "mpl.figure.prototype._init_header = function() {\n",
       "    var titlebar = $(\n",
       "        '<div class=\"ui-dialog-titlebar ui-widget-header ui-corner-all ' +\n",
       "        'ui-helper-clearfix\"/>');\n",
       "    var titletext = $(\n",
       "        '<div class=\"ui-dialog-title\" style=\"width: 100%; ' +\n",
       "        'text-align: center; padding: 3px;\"/>');\n",
       "    titlebar.append(titletext)\n",
       "    this.root.append(titlebar);\n",
       "    this.header = titletext[0];\n",
       "}\n",
       "\n",
       "\n",
       "\n",
       "mpl.figure.prototype._canvas_extra_style = function(canvas_div) {\n",
       "\n",
       "}\n",
       "\n",
       "\n",
       "mpl.figure.prototype._root_extra_style = function(canvas_div) {\n",
       "\n",
       "}\n",
       "\n",
       "mpl.figure.prototype._init_canvas = function() {\n",
       "    var fig = this;\n",
       "\n",
       "    var canvas_div = $('<div/>');\n",
       "\n",
       "    canvas_div.attr('style', 'position: relative; clear: both; outline: 0');\n",
       "\n",
       "    function canvas_keyboard_event(event) {\n",
       "        return fig.key_event(event, event['data']);\n",
       "    }\n",
       "\n",
       "    canvas_div.keydown('key_press', canvas_keyboard_event);\n",
       "    canvas_div.keyup('key_release', canvas_keyboard_event);\n",
       "    this.canvas_div = canvas_div\n",
       "    this._canvas_extra_style(canvas_div)\n",
       "    this.root.append(canvas_div);\n",
       "\n",
       "    var canvas = $('<canvas/>');\n",
       "    canvas.addClass('mpl-canvas');\n",
       "    canvas.attr('style', \"left: 0; top: 0; z-index: 0; outline: 0\")\n",
       "\n",
       "    this.canvas = canvas[0];\n",
       "    this.context = canvas[0].getContext(\"2d\");\n",
       "\n",
       "    var rubberband = $('<canvas/>');\n",
       "    rubberband.attr('style', \"position: absolute; left: 0; top: 0; z-index: 1;\")\n",
       "\n",
       "    var pass_mouse_events = true;\n",
       "\n",
       "    canvas_div.resizable({\n",
       "        start: function(event, ui) {\n",
       "            pass_mouse_events = false;\n",
       "        },\n",
       "        resize: function(event, ui) {\n",
       "            fig.request_resize(ui.size.width, ui.size.height);\n",
       "        },\n",
       "        stop: function(event, ui) {\n",
       "            pass_mouse_events = true;\n",
       "            fig.request_resize(ui.size.width, ui.size.height);\n",
       "        },\n",
       "    });\n",
       "\n",
       "    function mouse_event_fn(event) {\n",
       "        if (pass_mouse_events)\n",
       "            return fig.mouse_event(event, event['data']);\n",
       "    }\n",
       "\n",
       "    rubberband.mousedown('button_press', mouse_event_fn);\n",
       "    rubberband.mouseup('button_release', mouse_event_fn);\n",
       "    // Throttle sequential mouse events to 1 every 20ms.\n",
       "    rubberband.mousemove('motion_notify', mouse_event_fn);\n",
       "\n",
       "    rubberband.mouseenter('figure_enter', mouse_event_fn);\n",
       "    rubberband.mouseleave('figure_leave', mouse_event_fn);\n",
       "\n",
       "    canvas_div.on(\"wheel\", function (event) {\n",
       "        event = event.originalEvent;\n",
       "        event['data'] = 'scroll'\n",
       "        if (event.deltaY < 0) {\n",
       "            event.step = 1;\n",
       "        } else {\n",
       "            event.step = -1;\n",
       "        }\n",
       "        mouse_event_fn(event);\n",
       "    });\n",
       "\n",
       "    canvas_div.append(canvas);\n",
       "    canvas_div.append(rubberband);\n",
       "\n",
       "    this.rubberband = rubberband;\n",
       "    this.rubberband_canvas = rubberband[0];\n",
       "    this.rubberband_context = rubberband[0].getContext(\"2d\");\n",
       "    this.rubberband_context.strokeStyle = \"#000000\";\n",
       "\n",
       "    this._resize_canvas = function(width, height) {\n",
       "        // Keep the size of the canvas, canvas container, and rubber band\n",
       "        // canvas in synch.\n",
       "        canvas_div.css('width', width)\n",
       "        canvas_div.css('height', height)\n",
       "\n",
       "        canvas.attr('width', width);\n",
       "        canvas.attr('height', height);\n",
       "\n",
       "        rubberband.attr('width', width);\n",
       "        rubberband.attr('height', height);\n",
       "    }\n",
       "\n",
       "    // Set the figure to an initial 600x600px, this will subsequently be updated\n",
       "    // upon first draw.\n",
       "    this._resize_canvas(600, 600);\n",
       "\n",
       "    // Disable right mouse context menu.\n",
       "    $(this.rubberband_canvas).bind(\"contextmenu\",function(e){\n",
       "        return false;\n",
       "    });\n",
       "\n",
       "    function set_focus () {\n",
       "        canvas.focus();\n",
       "        canvas_div.focus();\n",
       "    }\n",
       "\n",
       "    window.setTimeout(set_focus, 100);\n",
       "}\n",
       "\n",
       "mpl.figure.prototype._init_toolbar = function() {\n",
       "    var fig = this;\n",
       "\n",
       "    var nav_element = $('<div/>')\n",
       "    nav_element.attr('style', 'width: 100%');\n",
       "    this.root.append(nav_element);\n",
       "\n",
       "    // Define a callback function for later on.\n",
       "    function toolbar_event(event) {\n",
       "        return fig.toolbar_button_onclick(event['data']);\n",
       "    }\n",
       "    function toolbar_mouse_event(event) {\n",
       "        return fig.toolbar_button_onmouseover(event['data']);\n",
       "    }\n",
       "\n",
       "    for(var toolbar_ind in mpl.toolbar_items) {\n",
       "        var name = mpl.toolbar_items[toolbar_ind][0];\n",
       "        var tooltip = mpl.toolbar_items[toolbar_ind][1];\n",
       "        var image = mpl.toolbar_items[toolbar_ind][2];\n",
       "        var method_name = mpl.toolbar_items[toolbar_ind][3];\n",
       "\n",
       "        if (!name) {\n",
       "            // put a spacer in here.\n",
       "            continue;\n",
       "        }\n",
       "        var button = $('<button/>');\n",
       "        button.addClass('ui-button ui-widget ui-state-default ui-corner-all ' +\n",
       "                        'ui-button-icon-only');\n",
       "        button.attr('role', 'button');\n",
       "        button.attr('aria-disabled', 'false');\n",
       "        button.click(method_name, toolbar_event);\n",
       "        button.mouseover(tooltip, toolbar_mouse_event);\n",
       "\n",
       "        var icon_img = $('<span/>');\n",
       "        icon_img.addClass('ui-button-icon-primary ui-icon');\n",
       "        icon_img.addClass(image);\n",
       "        icon_img.addClass('ui-corner-all');\n",
       "\n",
       "        var tooltip_span = $('<span/>');\n",
       "        tooltip_span.addClass('ui-button-text');\n",
       "        tooltip_span.html(tooltip);\n",
       "\n",
       "        button.append(icon_img);\n",
       "        button.append(tooltip_span);\n",
       "\n",
       "        nav_element.append(button);\n",
       "    }\n",
       "\n",
       "    var fmt_picker_span = $('<span/>');\n",
       "\n",
       "    var fmt_picker = $('<select/>');\n",
       "    fmt_picker.addClass('mpl-toolbar-option ui-widget ui-widget-content');\n",
       "    fmt_picker_span.append(fmt_picker);\n",
       "    nav_element.append(fmt_picker_span);\n",
       "    this.format_dropdown = fmt_picker[0];\n",
       "\n",
       "    for (var ind in mpl.extensions) {\n",
       "        var fmt = mpl.extensions[ind];\n",
       "        var option = $(\n",
       "            '<option/>', {selected: fmt === mpl.default_extension}).html(fmt);\n",
       "        fmt_picker.append(option)\n",
       "    }\n",
       "\n",
       "    // Add hover states to the ui-buttons\n",
       "    $( \".ui-button\" ).hover(\n",
       "        function() { $(this).addClass(\"ui-state-hover\");},\n",
       "        function() { $(this).removeClass(\"ui-state-hover\");}\n",
       "    );\n",
       "\n",
       "    var status_bar = $('<span class=\"mpl-message\"/>');\n",
       "    nav_element.append(status_bar);\n",
       "    this.message = status_bar[0];\n",
       "}\n",
       "\n",
       "mpl.figure.prototype.request_resize = function(x_pixels, y_pixels) {\n",
       "    // Request matplotlib to resize the figure. Matplotlib will then trigger a resize in the client,\n",
       "    // which will in turn request a refresh of the image.\n",
       "    this.send_message('resize', {'width': x_pixels, 'height': y_pixels});\n",
       "}\n",
       "\n",
       "mpl.figure.prototype.send_message = function(type, properties) {\n",
       "    properties['type'] = type;\n",
       "    properties['figure_id'] = this.id;\n",
       "    this.ws.send(JSON.stringify(properties));\n",
       "}\n",
       "\n",
       "mpl.figure.prototype.send_draw_message = function() {\n",
       "    if (!this.waiting) {\n",
       "        this.waiting = true;\n",
       "        this.ws.send(JSON.stringify({type: \"draw\", figure_id: this.id}));\n",
       "    }\n",
       "}\n",
       "\n",
       "\n",
       "mpl.figure.prototype.handle_save = function(fig, msg) {\n",
       "    var format_dropdown = fig.format_dropdown;\n",
       "    var format = format_dropdown.options[format_dropdown.selectedIndex].value;\n",
       "    fig.ondownload(fig, format);\n",
       "}\n",
       "\n",
       "\n",
       "mpl.figure.prototype.handle_resize = function(fig, msg) {\n",
       "    var size = msg['size'];\n",
       "    if (size[0] != fig.canvas.width || size[1] != fig.canvas.height) {\n",
       "        fig._resize_canvas(size[0], size[1]);\n",
       "        fig.send_message(\"refresh\", {});\n",
       "    };\n",
       "}\n",
       "\n",
       "mpl.figure.prototype.handle_rubberband = function(fig, msg) {\n",
       "    var x0 = msg['x0'];\n",
       "    var y0 = fig.canvas.height - msg['y0'];\n",
       "    var x1 = msg['x1'];\n",
       "    var y1 = fig.canvas.height - msg['y1'];\n",
       "    x0 = Math.floor(x0) + 0.5;\n",
       "    y0 = Math.floor(y0) + 0.5;\n",
       "    x1 = Math.floor(x1) + 0.5;\n",
       "    y1 = Math.floor(y1) + 0.5;\n",
       "    var min_x = Math.min(x0, x1);\n",
       "    var min_y = Math.min(y0, y1);\n",
       "    var width = Math.abs(x1 - x0);\n",
       "    var height = Math.abs(y1 - y0);\n",
       "\n",
       "    fig.rubberband_context.clearRect(\n",
       "        0, 0, fig.canvas.width, fig.canvas.height);\n",
       "\n",
       "    fig.rubberband_context.strokeRect(min_x, min_y, width, height);\n",
       "}\n",
       "\n",
       "mpl.figure.prototype.handle_figure_label = function(fig, msg) {\n",
       "    // Updates the figure title.\n",
       "    fig.header.textContent = msg['label'];\n",
       "}\n",
       "\n",
       "mpl.figure.prototype.handle_cursor = function(fig, msg) {\n",
       "    var cursor = msg['cursor'];\n",
       "    switch(cursor)\n",
       "    {\n",
       "    case 0:\n",
       "        cursor = 'pointer';\n",
       "        break;\n",
       "    case 1:\n",
       "        cursor = 'default';\n",
       "        break;\n",
       "    case 2:\n",
       "        cursor = 'crosshair';\n",
       "        break;\n",
       "    case 3:\n",
       "        cursor = 'move';\n",
       "        break;\n",
       "    }\n",
       "    fig.rubberband_canvas.style.cursor = cursor;\n",
       "}\n",
       "\n",
       "mpl.figure.prototype.handle_message = function(fig, msg) {\n",
       "    fig.message.textContent = msg['message'];\n",
       "}\n",
       "\n",
       "mpl.figure.prototype.handle_draw = function(fig, msg) {\n",
       "    // Request the server to send over a new figure.\n",
       "    fig.send_draw_message();\n",
       "}\n",
       "\n",
       "mpl.figure.prototype.handle_image_mode = function(fig, msg) {\n",
       "    fig.image_mode = msg['mode'];\n",
       "}\n",
       "\n",
       "mpl.figure.prototype.updated_canvas_event = function() {\n",
       "    // Called whenever the canvas gets updated.\n",
       "    this.send_message(\"ack\", {});\n",
       "}\n",
       "\n",
       "// A function to construct a web socket function for onmessage handling.\n",
       "// Called in the figure constructor.\n",
       "mpl.figure.prototype._make_on_message_function = function(fig) {\n",
       "    return function socket_on_message(evt) {\n",
       "        if (evt.data instanceof Blob) {\n",
       "            /* FIXME: We get \"Resource interpreted as Image but\n",
       "             * transferred with MIME type text/plain:\" errors on\n",
       "             * Chrome.  But how to set the MIME type?  It doesn't seem\n",
       "             * to be part of the websocket stream */\n",
       "            evt.data.type = \"image/png\";\n",
       "\n",
       "            /* Free the memory for the previous frames */\n",
       "            if (fig.imageObj.src) {\n",
       "                (window.URL || window.webkitURL).revokeObjectURL(\n",
       "                    fig.imageObj.src);\n",
       "            }\n",
       "\n",
       "            fig.imageObj.src = (window.URL || window.webkitURL).createObjectURL(\n",
       "                evt.data);\n",
       "            fig.updated_canvas_event();\n",
       "            fig.waiting = false;\n",
       "            return;\n",
       "        }\n",
       "        else if (typeof evt.data === 'string' && evt.data.slice(0, 21) == \"data:image/png;base64\") {\n",
       "            fig.imageObj.src = evt.data;\n",
       "            fig.updated_canvas_event();\n",
       "            fig.waiting = false;\n",
       "            return;\n",
       "        }\n",
       "\n",
       "        var msg = JSON.parse(evt.data);\n",
       "        var msg_type = msg['type'];\n",
       "\n",
       "        // Call the  \"handle_{type}\" callback, which takes\n",
       "        // the figure and JSON message as its only arguments.\n",
       "        try {\n",
       "            var callback = fig[\"handle_\" + msg_type];\n",
       "        } catch (e) {\n",
       "            console.log(\"No handler for the '\" + msg_type + \"' message type: \", msg);\n",
       "            return;\n",
       "        }\n",
       "\n",
       "        if (callback) {\n",
       "            try {\n",
       "                // console.log(\"Handling '\" + msg_type + \"' message: \", msg);\n",
       "                callback(fig, msg);\n",
       "            } catch (e) {\n",
       "                console.log(\"Exception inside the 'handler_\" + msg_type + \"' callback:\", e, e.stack, msg);\n",
       "            }\n",
       "        }\n",
       "    };\n",
       "}\n",
       "\n",
       "// from http://stackoverflow.com/questions/1114465/getting-mouse-location-in-canvas\n",
       "mpl.findpos = function(e) {\n",
       "    //this section is from http://www.quirksmode.org/js/events_properties.html\n",
       "    var targ;\n",
       "    if (!e)\n",
       "        e = window.event;\n",
       "    if (e.target)\n",
       "        targ = e.target;\n",
       "    else if (e.srcElement)\n",
       "        targ = e.srcElement;\n",
       "    if (targ.nodeType == 3) // defeat Safari bug\n",
       "        targ = targ.parentNode;\n",
       "\n",
       "    // jQuery normalizes the pageX and pageY\n",
       "    // pageX,Y are the mouse positions relative to the document\n",
       "    // offset() returns the position of the element relative to the document\n",
       "    var x = e.pageX - $(targ).offset().left;\n",
       "    var y = e.pageY - $(targ).offset().top;\n",
       "\n",
       "    return {\"x\": x, \"y\": y};\n",
       "};\n",
       "\n",
       "/*\n",
       " * return a copy of an object with only non-object keys\n",
       " * we need this to avoid circular references\n",
       " * http://stackoverflow.com/a/24161582/3208463\n",
       " */\n",
       "function simpleKeys (original) {\n",
       "  return Object.keys(original).reduce(function (obj, key) {\n",
       "    if (typeof original[key] !== 'object')\n",
       "        obj[key] = original[key]\n",
       "    return obj;\n",
       "  }, {});\n",
       "}\n",
       "\n",
       "mpl.figure.prototype.mouse_event = function(event, name) {\n",
       "    var canvas_pos = mpl.findpos(event)\n",
       "\n",
       "    if (name === 'button_press')\n",
       "    {\n",
       "        this.canvas.focus();\n",
       "        this.canvas_div.focus();\n",
       "    }\n",
       "\n",
       "    var x = canvas_pos.x;\n",
       "    var y = canvas_pos.y;\n",
       "\n",
       "    this.send_message(name, {x: x, y: y, button: event.button,\n",
       "                             step: event.step,\n",
       "                             guiEvent: simpleKeys(event)});\n",
       "\n",
       "    /* This prevents the web browser from automatically changing to\n",
       "     * the text insertion cursor when the button is pressed.  We want\n",
       "     * to control all of the cursor setting manually through the\n",
       "     * 'cursor' event from matplotlib */\n",
       "    event.preventDefault();\n",
       "    return false;\n",
       "}\n",
       "\n",
       "mpl.figure.prototype._key_event_extra = function(event, name) {\n",
       "    // Handle any extra behaviour associated with a key event\n",
       "}\n",
       "\n",
       "mpl.figure.prototype.key_event = function(event, name) {\n",
       "\n",
       "    // Prevent repeat events\n",
       "    if (name == 'key_press')\n",
       "    {\n",
       "        if (event.which === this._key)\n",
       "            return;\n",
       "        else\n",
       "            this._key = event.which;\n",
       "    }\n",
       "    if (name == 'key_release')\n",
       "        this._key = null;\n",
       "\n",
       "    var value = '';\n",
       "    if (event.ctrlKey && event.which != 17)\n",
       "        value += \"ctrl+\";\n",
       "    if (event.altKey && event.which != 18)\n",
       "        value += \"alt+\";\n",
       "    if (event.shiftKey && event.which != 16)\n",
       "        value += \"shift+\";\n",
       "\n",
       "    value += 'k';\n",
       "    value += event.which.toString();\n",
       "\n",
       "    this._key_event_extra(event, name);\n",
       "\n",
       "    this.send_message(name, {key: value,\n",
       "                             guiEvent: simpleKeys(event)});\n",
       "    return false;\n",
       "}\n",
       "\n",
       "mpl.figure.prototype.toolbar_button_onclick = function(name) {\n",
       "    if (name == 'download') {\n",
       "        this.handle_save(this, null);\n",
       "    } else {\n",
       "        this.send_message(\"toolbar_button\", {name: name});\n",
       "    }\n",
       "};\n",
       "\n",
       "mpl.figure.prototype.toolbar_button_onmouseover = function(tooltip) {\n",
       "    this.message.textContent = tooltip;\n",
       "};\n",
       "mpl.toolbar_items = [[\"Home\", \"Reset original view\", \"fa fa-home icon-home\", \"home\"], [\"Back\", \"Back to  previous view\", \"fa fa-arrow-left icon-arrow-left\", \"back\"], [\"Forward\", \"Forward to next view\", \"fa fa-arrow-right icon-arrow-right\", \"forward\"], [\"\", \"\", \"\", \"\"], [\"Pan\", \"Pan axes with left mouse, zoom with right\", \"fa fa-arrows icon-move\", \"pan\"], [\"Zoom\", \"Zoom to rectangle\", \"fa fa-square-o icon-check-empty\", \"zoom\"], [\"\", \"\", \"\", \"\"], [\"Download\", \"Download plot\", \"fa fa-floppy-o icon-save\", \"download\"]];\n",
       "\n",
       "mpl.extensions = [\"eps\", \"jpeg\", \"pdf\", \"png\", \"ps\", \"raw\", \"svg\", \"tif\"];\n",
       "\n",
       "mpl.default_extension = \"png\";var comm_websocket_adapter = function(comm) {\n",
       "    // Create a \"websocket\"-like object which calls the given IPython comm\n",
       "    // object with the appropriate methods. Currently this is a non binary\n",
       "    // socket, so there is still some room for performance tuning.\n",
       "    var ws = {};\n",
       "\n",
       "    ws.close = function() {\n",
       "        comm.close()\n",
       "    };\n",
       "    ws.send = function(m) {\n",
       "        //console.log('sending', m);\n",
       "        comm.send(m);\n",
       "    };\n",
       "    // Register the callback with on_msg.\n",
       "    comm.on_msg(function(msg) {\n",
       "        //console.log('receiving', msg['content']['data'], msg);\n",
       "        // Pass the mpl event to the overriden (by mpl) onmessage function.\n",
       "        ws.onmessage(msg['content']['data'])\n",
       "    });\n",
       "    return ws;\n",
       "}\n",
       "\n",
       "mpl.mpl_figure_comm = function(comm, msg) {\n",
       "    // This is the function which gets called when the mpl process\n",
       "    // starts-up an IPython Comm through the \"matplotlib\" channel.\n",
       "\n",
       "    var id = msg.content.data.id;\n",
       "    // Get hold of the div created by the display call when the Comm\n",
       "    // socket was opened in Python.\n",
       "    var element = $(\"#\" + id);\n",
       "    var ws_proxy = comm_websocket_adapter(comm)\n",
       "\n",
       "    function ondownload(figure, format) {\n",
       "        window.open(figure.imageObj.src);\n",
       "    }\n",
       "\n",
       "    var fig = new mpl.figure(id, ws_proxy,\n",
       "                           ondownload,\n",
       "                           element.get(0));\n",
       "\n",
       "    // Call onopen now - mpl needs it, as it is assuming we've passed it a real\n",
       "    // web socket which is closed, not our websocket->open comm proxy.\n",
       "    ws_proxy.onopen();\n",
       "\n",
       "    fig.parent_element = element.get(0);\n",
       "    fig.cell_info = mpl.find_output_cell(\"<div id='\" + id + \"'></div>\");\n",
       "    if (!fig.cell_info) {\n",
       "        console.error(\"Failed to find cell for figure\", id, fig);\n",
       "        return;\n",
       "    }\n",
       "\n",
       "    var output_index = fig.cell_info[2]\n",
       "    var cell = fig.cell_info[0];\n",
       "\n",
       "};\n",
       "\n",
       "mpl.figure.prototype.handle_close = function(fig, msg) {\n",
       "    fig.root.unbind('remove')\n",
       "\n",
       "    // Update the output cell to use the data from the current canvas.\n",
       "    fig.push_to_output();\n",
       "    var dataURL = fig.canvas.toDataURL();\n",
       "    // Re-enable the keyboard manager in IPython - without this line, in FF,\n",
       "    // the notebook keyboard shortcuts fail.\n",
       "    IPython.keyboard_manager.enable()\n",
       "    $(fig.parent_element).html('<img src=\"' + dataURL + '\">');\n",
       "    fig.close_ws(fig, msg);\n",
       "}\n",
       "\n",
       "mpl.figure.prototype.close_ws = function(fig, msg){\n",
       "    fig.send_message('closing', msg);\n",
       "    // fig.ws.close()\n",
       "}\n",
       "\n",
       "mpl.figure.prototype.push_to_output = function(remove_interactive) {\n",
       "    // Turn the data on the canvas into data in the output cell.\n",
       "    var dataURL = this.canvas.toDataURL();\n",
       "    this.cell_info[1]['text/html'] = '<img src=\"' + dataURL + '\">';\n",
       "}\n",
       "\n",
       "mpl.figure.prototype.updated_canvas_event = function() {\n",
       "    // Tell IPython that the notebook contents must change.\n",
       "    IPython.notebook.set_dirty(true);\n",
       "    this.send_message(\"ack\", {});\n",
       "    var fig = this;\n",
       "    // Wait a second, then push the new image to the DOM so\n",
       "    // that it is saved nicely (might be nice to debounce this).\n",
       "    setTimeout(function () { fig.push_to_output() }, 1000);\n",
       "}\n",
       "\n",
       "mpl.figure.prototype._init_toolbar = function() {\n",
       "    var fig = this;\n",
       "\n",
       "    var nav_element = $('<div/>')\n",
       "    nav_element.attr('style', 'width: 100%');\n",
       "    this.root.append(nav_element);\n",
       "\n",
       "    // Define a callback function for later on.\n",
       "    function toolbar_event(event) {\n",
       "        return fig.toolbar_button_onclick(event['data']);\n",
       "    }\n",
       "    function toolbar_mouse_event(event) {\n",
       "        return fig.toolbar_button_onmouseover(event['data']);\n",
       "    }\n",
       "\n",
       "    for(var toolbar_ind in mpl.toolbar_items){\n",
       "        var name = mpl.toolbar_items[toolbar_ind][0];\n",
       "        var tooltip = mpl.toolbar_items[toolbar_ind][1];\n",
       "        var image = mpl.toolbar_items[toolbar_ind][2];\n",
       "        var method_name = mpl.toolbar_items[toolbar_ind][3];\n",
       "\n",
       "        if (!name) { continue; };\n",
       "\n",
       "        var button = $('<button class=\"btn btn-default\" href=\"#\" title=\"' + name + '\"><i class=\"fa ' + image + ' fa-lg\"></i></button>');\n",
       "        button.click(method_name, toolbar_event);\n",
       "        button.mouseover(tooltip, toolbar_mouse_event);\n",
       "        nav_element.append(button);\n",
       "    }\n",
       "\n",
       "    // Add the status bar.\n",
       "    var status_bar = $('<span class=\"mpl-message\" style=\"text-align:right; float: right;\"/>');\n",
       "    nav_element.append(status_bar);\n",
       "    this.message = status_bar[0];\n",
       "\n",
       "    // Add the close button to the window.\n",
       "    var buttongrp = $('<div class=\"btn-group inline pull-right\"></div>');\n",
       "    var button = $('<button class=\"btn btn-mini btn-primary\" href=\"#\" title=\"Stop Interaction\"><i class=\"fa fa-power-off icon-remove icon-large\"></i></button>');\n",
       "    button.click(function (evt) { fig.handle_close(fig, {}); } );\n",
       "    button.mouseover('Stop Interaction', toolbar_mouse_event);\n",
       "    buttongrp.append(button);\n",
       "    var titlebar = this.root.find($('.ui-dialog-titlebar'));\n",
       "    titlebar.prepend(buttongrp);\n",
       "}\n",
       "\n",
       "mpl.figure.prototype._root_extra_style = function(el){\n",
       "    var fig = this\n",
       "    el.on(\"remove\", function(){\n",
       "\tfig.close_ws(fig, {});\n",
       "    });\n",
       "}\n",
       "\n",
       "mpl.figure.prototype._canvas_extra_style = function(el){\n",
       "    // this is important to make the div 'focusable\n",
       "    el.attr('tabindex', 0)\n",
       "    // reach out to IPython and tell the keyboard manager to turn it's self\n",
       "    // off when our div gets focus\n",
       "\n",
       "    // location in version 3\n",
       "    if (IPython.notebook.keyboard_manager) {\n",
       "        IPython.notebook.keyboard_manager.register_events(el);\n",
       "    }\n",
       "    else {\n",
       "        // location in version 2\n",
       "        IPython.keyboard_manager.register_events(el);\n",
       "    }\n",
       "\n",
       "}\n",
       "\n",
       "mpl.figure.prototype._key_event_extra = function(event, name) {\n",
       "    var manager = IPython.notebook.keyboard_manager;\n",
       "    if (!manager)\n",
       "        manager = IPython.keyboard_manager;\n",
       "\n",
       "    // Check for shift+enter\n",
       "    if (event.shiftKey && event.which == 13) {\n",
       "        this.canvas_div.blur();\n",
       "        event.shiftKey = false;\n",
       "        // Send a \"J\" for go to next cell\n",
       "        event.which = 74;\n",
       "        event.keyCode = 74;\n",
       "        manager.command_mode();\n",
       "        manager.handle_keydown(event);\n",
       "    }\n",
       "}\n",
       "\n",
       "mpl.figure.prototype.handle_save = function(fig, msg) {\n",
       "    fig.ondownload(fig, null);\n",
       "}\n",
       "\n",
       "\n",
       "mpl.find_output_cell = function(html_output) {\n",
       "    // Return the cell and output element which can be found *uniquely* in the notebook.\n",
       "    // Note - this is a bit hacky, but it is done because the \"notebook_saving.Notebook\"\n",
       "    // IPython event is triggered only after the cells have been serialised, which for\n",
       "    // our purposes (turning an active figure into a static one), is too late.\n",
       "    var cells = IPython.notebook.get_cells();\n",
       "    var ncells = cells.length;\n",
       "    for (var i=0; i<ncells; i++) {\n",
       "        var cell = cells[i];\n",
       "        if (cell.cell_type === 'code'){\n",
       "            for (var j=0; j<cell.output_area.outputs.length; j++) {\n",
       "                var data = cell.output_area.outputs[j];\n",
       "                if (data.data) {\n",
       "                    // IPython >= 3 moved mimebundle to data attribute of output\n",
       "                    data = data.data;\n",
       "                }\n",
       "                if (data['text/html'] == html_output) {\n",
       "                    return [cell, data, j];\n",
       "                }\n",
       "            }\n",
       "        }\n",
       "    }\n",
       "}\n",
       "\n",
       "// Register the function which deals with the matplotlib target/channel.\n",
       "// The kernel may be null if the page has been refreshed.\n",
       "if (IPython.notebook.kernel != null) {\n",
       "    IPython.notebook.kernel.comm_manager.register_target('matplotlib', mpl.mpl_figure_comm);\n",
       "}\n"
      ],
      "text/plain": [
       "<IPython.core.display.Javascript object>"
      ]
     },
     "metadata": {},
     "output_type": "display_data"
    },
    {
     "data": {
      "text/html": [
       "<img src=\"data:image/png;base64,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\">"
      ],
      "text/plain": [
       "<IPython.core.display.HTML object>"
      ]
     },
     "metadata": {},
     "output_type": "display_data"
    },
    {
     "data": {
      "text/plain": [
       "<matplotlib.text.Text at 0x1bc2ce57048>"
      ]
     },
     "execution_count": 100,
     "metadata": {},
     "output_type": "execute_result"
    }
   ],
   "source": [
    "%matplotlib notebook\n",
    "from mpl_toolkits.mplot3d import Axes3D\n",
    "\n",
    "X = dados[['SupAli', 'PIB']]\n",
    "y = dados['ExpVida']\n",
    "\n",
    "## fit a OLS model with intercept on SupAli e PIB\n",
    "X = sm.add_constant(X)\n",
    "est = sm.OLS(y, X).fit()\n",
    "\n",
    "## Create the 3d plot\n",
    "# SupAli/PIB grid for 3d plot\n",
    "xx1, xx2 = np.meshgrid(np.linspace(X.SupAli.min(), X.SupAli.max(), 100), \n",
    "                       np.linspace(X.PIB.min(), X.PIB.max(), 100))\n",
    "\n",
    "# plot the hyperplane by evaluating the parameters on the grid\n",
    "Z = est.params[0] + est.params[1] * xx1 + est.params[2] * xx2\n",
    "\n",
    "# cria matplotlib 3d axes\n",
    "fig = plt.figure(figsize=(12, 8))\n",
    "ax = Axes3D(fig, azim=-115, elev=15)\n",
    "\n",
    "# plot Superficie\n",
    "surf = ax.plot_surface(xx1, xx2, Z, alpha=0.3, color='None',linewidth=0)\n",
    "\n",
    "# pontos acima da superfície são x, pontos abaixo são o\n",
    "resid = y - est.predict(X)\n",
    "ax.scatter(X[resid >= 0].SupAli, X[resid >= 0].PIB, y[resid >= 0], marker='x', alpha=1.0)\n",
    "ax.scatter(X[resid < 0].SupAli, X[resid < 0].PIB, y[resid < 0], marker='o', alpha=1.0)\n",
    "\n",
    "# set axis labels\n",
    "ax.set_xlabel('PIB/capita, PPP$ com ajuste de inflação (ln)')\n",
    "ax.set_ylabel('kcal/pessoa e dia')\n",
    "ax.set_zlabel('Expectativa de Vida (anos)')"
   ]
  },
  {
   "cell_type": "markdown",
   "metadata": {},
   "source": [
    "<img src=\"grafico1.png\">\n",
    "<img src=\"grafico2.png\">\n",
    "<img src=\"grafico3.png\">"
   ]
  },
  {
   "cell_type": "code",
   "execution_count": 45,
   "metadata": {
    "collapsed": false
   },
   "outputs": [
    {
     "data": {
      "text/html": [
       "<table class=\"simpletable\">\n",
       "<caption>OLS Regression Results</caption>\n",
       "<tr>\n",
       "  <th>Dep. Variable:</th>         <td>ExpVida</td>     <th>  R-squared:         </th> <td>   0.619</td>\n",
       "</tr>\n",
       "<tr>\n",
       "  <th>Model:</th>                   <td>OLS</td>       <th>  Adj. R-squared:    </th> <td>   0.614</td>\n",
       "</tr>\n",
       "<tr>\n",
       "  <th>Method:</th>             <td>Least Squares</td>  <th>  F-statistic:       </th> <td>   129.8</td>\n",
       "</tr>\n",
       "<tr>\n",
       "  <th>Date:</th>             <td>Tue, 06 Dec 2016</td> <th>  Prob (F-statistic):</th> <td>3.15e-34</td>\n",
       "</tr>\n",
       "<tr>\n",
       "  <th>Time:</th>                 <td>15:42:43</td>     <th>  Log-Likelihood:    </th> <td> -510.06</td>\n",
       "</tr>\n",
       "<tr>\n",
       "  <th>No. Observations:</th>      <td>   163</td>      <th>  AIC:               </th> <td>   1026.</td>\n",
       "</tr>\n",
       "<tr>\n",
       "  <th>Df Residuals:</th>          <td>   160</td>      <th>  BIC:               </th> <td>   1035.</td>\n",
       "</tr>\n",
       "<tr>\n",
       "  <th>Df Model:</th>              <td>     2</td>      <th>                     </th>     <td> </td>   \n",
       "</tr>\n",
       "<tr>\n",
       "  <th>Covariance Type:</th>      <td>nonrobust</td>    <th>                     </th>     <td> </td>   \n",
       "</tr>\n",
       "</table>\n",
       "<table class=\"simpletable\">\n",
       "<tr>\n",
       "     <td></td>       <th>coef</th>     <th>std err</th>      <th>t</th>      <th>P>|t|</th> <th>[95.0% Conf. Int.]</th> \n",
       "</tr>\n",
       "<tr>\n",
       "  <th>const</th>  <td>   19.6079</td> <td>    3.195</td> <td>    6.137</td> <td> 0.000</td> <td>   13.298    25.918</td>\n",
       "</tr>\n",
       "<tr>\n",
       "  <th>PIB</th>    <td>    4.5419</td> <td>    0.563</td> <td>    8.062</td> <td> 0.000</td> <td>    3.429     5.654</td>\n",
       "</tr>\n",
       "<tr>\n",
       "  <th>SupAli</th> <td>    0.0033</td> <td>    0.001</td> <td>    2.374</td> <td> 0.019</td> <td>    0.001     0.006</td>\n",
       "</tr>\n",
       "</table>\n",
       "<table class=\"simpletable\">\n",
       "<tr>\n",
       "  <th>Omnibus:</th>       <td>43.907</td> <th>  Durbin-Watson:     </th> <td>   2.033</td>\n",
       "</tr>\n",
       "<tr>\n",
       "  <th>Prob(Omnibus):</th> <td> 0.000</td> <th>  Jarque-Bera (JB):  </th> <td>  87.842</td>\n",
       "</tr>\n",
       "<tr>\n",
       "  <th>Skew:</th>          <td>-1.230</td> <th>  Prob(JB):          </th> <td>8.42e-20</td>\n",
       "</tr>\n",
       "<tr>\n",
       "  <th>Kurtosis:</th>      <td> 5.624</td> <th>  Cond. No.          </th> <td>2.07e+04</td>\n",
       "</tr>\n",
       "</table>"
      ],
      "text/plain": [
       "<class 'statsmodels.iolib.summary.Summary'>\n",
       "\"\"\"\n",
       "                            OLS Regression Results                            \n",
       "==============================================================================\n",
       "Dep. Variable:                ExpVida   R-squared:                       0.619\n",
       "Model:                            OLS   Adj. R-squared:                  0.614\n",
       "Method:                 Least Squares   F-statistic:                     129.8\n",
       "Date:                Tue, 06 Dec 2016   Prob (F-statistic):           3.15e-34\n",
       "Time:                        15:42:43   Log-Likelihood:                -510.06\n",
       "No. Observations:                 163   AIC:                             1026.\n",
       "Df Residuals:                     160   BIC:                             1035.\n",
       "Df Model:                           2                                         \n",
       "Covariance Type:            nonrobust                                         \n",
       "==============================================================================\n",
       "                 coef    std err          t      P>|t|      [95.0% Conf. Int.]\n",
       "------------------------------------------------------------------------------\n",
       "const         19.6079      3.195      6.137      0.000        13.298    25.918\n",
       "PIB            4.5419      0.563      8.062      0.000         3.429     5.654\n",
       "SupAli         0.0033      0.001      2.374      0.019         0.001     0.006\n",
       "==============================================================================\n",
       "Omnibus:                       43.907   Durbin-Watson:                   2.033\n",
       "Prob(Omnibus):                  0.000   Jarque-Bera (JB):               87.842\n",
       "Skew:                          -1.230   Prob(JB):                     8.42e-20\n",
       "Kurtosis:                       5.624   Cond. No.                     2.07e+04\n",
       "==============================================================================\n",
       "\n",
       "Warnings:\n",
       "[1] Standard Errors assume that the covariance matrix of the errors is correctly specified.\n",
       "[2] The condition number is large, 2.07e+04. This might indicate that there are\n",
       "strong multicollinearity or other numerical problems.\n",
       "\"\"\""
      ]
     },
     "execution_count": 45,
     "metadata": {},
     "output_type": "execute_result"
    }
   ],
   "source": [
    "#Dados\n",
    "y=dados.ExpVida\n",
    "X=dados.iloc[:,(1,2)]\n",
    "X=sm.add_constant(X)\n",
    "X.head()\n",
    "\n",
    "model=sm.OLS(y, X)\n",
    "fit=model.fit()\n",
    "fit.summary()"
   ]
  },
  {
   "cell_type": "markdown",
   "metadata": {},
   "source": [
    "$\\hat{ExpVida} = \\hat{\\beta_0} + \\hat{\\beta_1} \\cdot PIB + \\hat{\\beta_2} \\cdot SupAli \\Rightarrow \\hat{ExpVida} = 19.6079 + 4.5419 \\cdot PIB + 0.0033 \\cdot SupAli$   "
   ]
  },
  {
   "cell_type": "markdown",
   "metadata": {},
   "source": [
    "Para verificar se as variáveis são relevantes ao modelo, utilizaremos o teste de hipóteses seguinte para todos os $\\hat{\\beta}$:\n",
    "       \n",
    "$H_0: \\hat{\\beta} = 0$ : Variável não relevante ao modelo\n",
    "\n",
    "$H_1: \\hat{\\beta} \\neq 0 $ : Variável relevante ao modelo\n",
    "\n",
    "Com base na tabela acima é observado que os valores-p estão bem abaixo de 10% (nível de significancia: 5%), e portanto é possível reijeitar $H_0$.\n",
    "\n",
    "Em suma, cunclui-se que que as variaveís são relevantes ao modelo.\n"
   ]
  },
  {
   "cell_type": "markdown",
   "metadata": {},
   "source": [
    "Não será interessante interpretar o intercepto ($\\hat{\\beta}_0$), interpretaremos $\\hat{\\beta}_1$ e $\\hat{\\beta}_2$."
   ]
  },
  {
   "cell_type": "markdown",
   "metadata": {},
   "source": [
    "$\\hat{\\beta}_1:$ coeficiente angular estimado (PIB/capita, PPP$ com ajuste de inflação (ln))\n",
    "\n",
    "$\\hat{\\beta}_2:$ coeficiente angular estimado(Suprimento Alimentício, kcal/pessoa e dia)\n",
    "\n"
   ]
  },
  {
   "cell_type": "markdown",
   "metadata": {},
   "source": [
    "## Análise de resíduos\n",
    "_______"
   ]
  },
  {
   "cell_type": "code",
   "execution_count": 50,
   "metadata": {
    "collapsed": false
   },
   "outputs": [
    {
     "data": {
      "image/png": "[encoded data removed]",
      "text/plain": [
       "<matplotlib.figure.Figure at 0x1bc2acd2cc0>"
      ]
     },
     "metadata": {},
     "output_type": "display_data"
    },
    {
     "data": {
      "image/png": "[encoded data removed]",
      "text/plain": [
       "<matplotlib.figure.Figure at 0x1bc2a3fc748>"
      ]
     },
     "metadata": {},
     "output_type": "display_data"
    }
   ],
   "source": [
    "%matplotlib inline\n",
    "plt.plot(dados.PIB, fit.resid, 'o')\n",
    "plt.title('Análise de resíduos para PIB')\n",
    "plt.xlabel('PIB/capita, PPP$ com ajuste de inflação (ln)')\n",
    "plt.ylabel('Resíduos Padronizados')\n",
    "plt.show()\n",
    "\n",
    "plt.plot(dados.SupAli, fit.resid, 'o')\n",
    "plt.title('Análise de resíduos para Suprimento alimentício')\n",
    "plt.xlabel('kcal/pessoa e dia')\n",
    "plt.ylabel('Resíduos Padronizados')\n",
    "plt.show()"
   ]
  },
  {
   "cell_type": "markdown",
   "metadata": {
    "collapsed": false
   },
   "source": [
    "Após a análise dos resíduos, pudemos perceber que a nossa distribuição de erros comporta-se aproximadamente como uma ideal. Ou seja, nossos erros estão localizados em torno do 0 (zero) de maneira bem distribuída."
   ]
  },
  {
   "cell_type": "markdown",
   "metadata": {},
   "source": [
    "## Interpretação dos parâmetros\n",
    "-------"
   ]
  },
  {
   "cell_type": "markdown",
   "metadata": {},
   "source": [
    "Com base nos parâmetros dos coeficientes angulares ($\\beta_1$ e $\\beta_2$), pode-se efetuar algumas interpretações. $\\beta_1$ (coeficiente angular que relaciona PIB per capita com a expectativa de vida) valendo aproximadamente 4,5 significa que com o aumento de 10% do PIB per capita de um país, haverá o aumento – previsto – de aproximadamente 0,45 anos na expectativa de vida do mesmo. Já $\\beta_2$ (coeficiente angular que relaciona Suprimento Alimenticio com a expectativa de vida) com o valor aproximado de 0,0033, significa que com o aumento de 1000 kcal por pessoa e dia (metade do recomendado), haverá o aumento estimado de 3,3 anos na expectativa de vida."
   ]
  },
  {
   "cell_type": "markdown",
   "metadata": {},
   "source": [
    "## Objetivos\n",
    "-------"
   ]
  },
  {
   "cell_type": "markdown",
   "metadata": {},
   "source": [
    "O objetivo principal do projeto é entender de que forma a variação do PIB per capta e do suprimento alimentício de um país podem afetar a expectativa de vida nele. Em outras palavras, o objetivo é ver como as condições de vida da população dos países afeta a expectativa de vida da mesma. Para isso verificamos se o modelo é bom pelo $R^2$ e via teste de hipóteses.\n",
    "\n",
    "$R^2$: Coeficiente de determinação - Quão bem os valores se ajustam ao modelo, e  $ 0 \\ge R^2 \\ge 1$, o melhor ajuste se dá quando o $R^2$ é próximo de 1. No nosso caso $R^2=0.619$, o que mostra que o modelo é bom para nossas variáveis."
   ]
  },
  {
   "cell_type": "markdown",
   "metadata": {},
   "source": [
    "## Verificação se o modelo é bom quando os países são divididos em subgrupos\n",
    "________"
   ]
  },
  {
   "cell_type": "code",
   "execution_count": 74,
   "metadata": {
    "collapsed": true
   },
   "outputs": [],
   "source": [
    "ExpVida = pd.read_excel('life.xlsx', index_col=0)\n",
    "PIB = pd.read_excel('gdp.xlsx', index_col=0)\n",
    "SupAli = pd.read_excel('food.xlsx', index_col=0)\n",
    "IDH = pd.read_excel('IDH.xlsx', index_col=0)"
   ]
  },
  {
   "cell_type": "code",
   "execution_count": 75,
   "metadata": {
    "collapsed": true
   },
   "outputs": [],
   "source": [
    "dados1 = pd.DataFrame()"
   ]
  },
  {
   "cell_type": "code",
   "execution_count": 76,
   "metadata": {
    "collapsed": false
   },
   "outputs": [],
   "source": [
    "dados1 = ExpVida.join(PIB, how=\"outer\")\n",
    "dados1 = dados1.join(SupAli, how=\"outer\")\n",
    "dados1 = dados1.join(IDH, how=\"outer\")"
   ]
  },
  {
   "cell_type": "code",
   "execution_count": 79,
   "metadata": {
    "collapsed": false
   },
   "outputs": [],
   "source": [
    "dados1 = dados1[~np.isnan(dados1.ExpVida)]\n",
    "dados1 = dados1[~np.isnan(dados1.PIB)]\n",
    "dados1 = dados1[~np.isnan(dados1.SupAli)]\n",
    "dados1 = dados1[~np.isnan(dados1.IDH)]"
   ]
  },
  {
   "cell_type": "code",
   "execution_count": 80,
   "metadata": {
    "collapsed": true
   },
   "outputs": [],
   "source": [
    "dados1.PIB= np.log(dados.PIB)"
   ]
  },
  {
   "cell_type": "code",
   "execution_count": 82,
   "metadata": {
    "collapsed": false
   },
   "outputs": [
    {
     "data": {
      "text/html": [
       "<div>\n",
       "<table border=\"1\" class=\"dataframe\">\n",
       "  <thead>\n",
       "    <tr style=\"text-align: right;\">\n",
       "      <th></th>\n",
       "      <th>ExpVida</th>\n",
       "      <th>PIB</th>\n",
       "      <th>SupAli</th>\n",
       "      <th>IDH</th>\n",
       "    </tr>\n",
       "  </thead>\n",
       "  <tbody>\n",
       "    <tr>\n",
       "      <th>Uzbekistan</th>\n",
       "      <td>69.2</td>\n",
       "      <td>2.098146</td>\n",
       "      <td>2581.11</td>\n",
       "      <td>0.619</td>\n",
       "    </tr>\n",
       "    <tr>\n",
       "      <th>Venezuela</th>\n",
       "      <td>74.4</td>\n",
       "      <td>2.278123</td>\n",
       "      <td>2631.90</td>\n",
       "      <td>0.720</td>\n",
       "    </tr>\n",
       "    <tr>\n",
       "      <th>Vietnam</th>\n",
       "      <td>73.8</td>\n",
       "      <td>2.112698</td>\n",
       "      <td>2816.25</td>\n",
       "      <td>0.575</td>\n",
       "    </tr>\n",
       "    <tr>\n",
       "      <th>Zambia</th>\n",
       "      <td>49.0</td>\n",
       "      <td>2.076037</td>\n",
       "      <td>1873.04</td>\n",
       "      <td>0.405</td>\n",
       "    </tr>\n",
       "    <tr>\n",
       "      <th>Zimbabwe</th>\n",
       "      <td>46.4</td>\n",
       "      <td>1.995728</td>\n",
       "      <td>2237.75</td>\n",
       "      <td>0.350</td>\n",
       "    </tr>\n",
       "  </tbody>\n",
       "</table>\n",
       "</div>"
      ],
      "text/plain": [
       "            ExpVida       PIB   SupAli    IDH\n",
       "Uzbekistan     69.2  2.098146  2581.11  0.619\n",
       "Venezuela      74.4  2.278123  2631.90  0.720\n",
       "Vietnam        73.8  2.112698  2816.25  0.575\n",
       "Zambia         49.0  2.076037  1873.04  0.405\n",
       "Zimbabwe       46.4  1.995728  2237.75  0.350"
      ]
     },
     "execution_count": 82,
     "metadata": {},
     "output_type": "execute_result"
    }
   ],
   "source": [
    "dados1.tail()"
   ]
  },
  {
   "cell_type": "code",
   "execution_count": 94,
   "metadata": {
    "collapsed": false
   },
   "outputs": [],
   "source": [
    "#criando novos dataframes separados para desenvolvimento\n",
    "desenvolvidos = dados1[(dados1.IDH >= 0.75)]\n",
    "desenvolvimento = dados1[(dados1.IDH >= 0.5) & (dados1.IDH < 0.75)]\n",
    "subdesenvolvido = dados1[(dados1.IDH <0.5)]"
   ]
  },
  {
   "cell_type": "code",
   "execution_count": 95,
   "metadata": {
    "collapsed": false
   },
   "outputs": [
    {
     "data": {
      "text/html": [
       "<table class=\"simpletable\">\n",
       "<caption>OLS Regression Results</caption>\n",
       "<tr>\n",
       "  <th>Dep. Variable:</th>         <td>ExpVida</td>     <th>  R-squared:         </th> <td>   0.392</td>\n",
       "</tr>\n",
       "<tr>\n",
       "  <th>Model:</th>                   <td>OLS</td>       <th>  Adj. R-squared:    </th> <td>   0.368</td>\n",
       "</tr>\n",
       "<tr>\n",
       "  <th>Method:</th>             <td>Least Squares</td>  <th>  F-statistic:       </th> <td>   16.13</td>\n",
       "</tr>\n",
       "<tr>\n",
       "  <th>Date:</th>             <td>Tue, 06 Dec 2016</td> <th>  Prob (F-statistic):</th> <td>3.92e-06</td>\n",
       "</tr>\n",
       "<tr>\n",
       "  <th>Time:</th>                 <td>16:23:27</td>     <th>  Log-Likelihood:    </th> <td> -123.39</td>\n",
       "</tr>\n",
       "<tr>\n",
       "  <th>No. Observations:</th>      <td>    53</td>      <th>  AIC:               </th> <td>   252.8</td>\n",
       "</tr>\n",
       "<tr>\n",
       "  <th>Df Residuals:</th>          <td>    50</td>      <th>  BIC:               </th> <td>   258.7</td>\n",
       "</tr>\n",
       "<tr>\n",
       "  <th>Df Model:</th>              <td>     2</td>      <th>                     </th>     <td> </td>   \n",
       "</tr>\n",
       "<tr>\n",
       "  <th>Covariance Type:</th>      <td>nonrobust</td>    <th>                     </th>     <td> </td>   \n",
       "</tr>\n",
       "</table>\n",
       "<table class=\"simpletable\">\n",
       "<tr>\n",
       "     <td></td>       <th>coef</th>     <th>std err</th>      <th>t</th>      <th>P>|t|</th> <th>[95.0% Conf. Int.]</th> \n",
       "</tr>\n",
       "<tr>\n",
       "  <th>const</th>  <td>    9.7424</td> <td>   17.380</td> <td>    0.561</td> <td> 0.578</td> <td>  -25.167    44.652</td>\n",
       "</tr>\n",
       "<tr>\n",
       "  <th>PIB</th>    <td>   24.8469</td> <td>    8.124</td> <td>    3.058</td> <td> 0.004</td> <td>    8.528    41.165</td>\n",
       "</tr>\n",
       "<tr>\n",
       "  <th>SupAli</th> <td>    0.0031</td> <td>    0.001</td> <td>    2.605</td> <td> 0.012</td> <td>    0.001     0.005</td>\n",
       "</tr>\n",
       "</table>\n",
       "<table class=\"simpletable\">\n",
       "<tr>\n",
       "  <th>Omnibus:</th>       <td> 1.392</td> <th>  Durbin-Watson:     </th> <td>   1.709</td>\n",
       "</tr>\n",
       "<tr>\n",
       "  <th>Prob(Omnibus):</th> <td> 0.499</td> <th>  Jarque-Bera (JB):  </th> <td>   1.327</td>\n",
       "</tr>\n",
       "<tr>\n",
       "  <th>Skew:</th>          <td>-0.365</td> <th>  Prob(JB):          </th> <td>   0.515</td>\n",
       "</tr>\n",
       "<tr>\n",
       "  <th>Kurtosis:</th>      <td> 2.737</td> <th>  Cond. No.          </th> <td>1.77e+05</td>\n",
       "</tr>\n",
       "</table>"
      ],
      "text/plain": [
       "<class 'statsmodels.iolib.summary.Summary'>\n",
       "\"\"\"\n",
       "                            OLS Regression Results                            \n",
       "==============================================================================\n",
       "Dep. Variable:                ExpVida   R-squared:                       0.392\n",
       "Model:                            OLS   Adj. R-squared:                  0.368\n",
       "Method:                 Least Squares   F-statistic:                     16.13\n",
       "Date:                Tue, 06 Dec 2016   Prob (F-statistic):           3.92e-06\n",
       "Time:                        16:23:27   Log-Likelihood:                -123.39\n",
       "No. Observations:                  53   AIC:                             252.8\n",
       "Df Residuals:                      50   BIC:                             258.7\n",
       "Df Model:                           2                                         \n",
       "Covariance Type:            nonrobust                                         \n",
       "==============================================================================\n",
       "                 coef    std err          t      P>|t|      [95.0% Conf. Int.]\n",
       "------------------------------------------------------------------------------\n",
       "const          9.7424     17.380      0.561      0.578       -25.167    44.652\n",
       "PIB           24.8469      8.124      3.058      0.004         8.528    41.165\n",
       "SupAli         0.0031      0.001      2.605      0.012         0.001     0.005\n",
       "==============================================================================\n",
       "Omnibus:                        1.392   Durbin-Watson:                   1.709\n",
       "Prob(Omnibus):                  0.499   Jarque-Bera (JB):                1.327\n",
       "Skew:                          -0.365   Prob(JB):                        0.515\n",
       "Kurtosis:                       2.737   Cond. No.                     1.77e+05\n",
       "==============================================================================\n",
       "\n",
       "Warnings:\n",
       "[1] Standard Errors assume that the covariance matrix of the errors is correctly specified.\n",
       "[2] The condition number is large, 1.77e+05. This might indicate that there are\n",
       "strong multicollinearity or other numerical problems.\n",
       "\"\"\""
      ]
     },
     "execution_count": 95,
     "metadata": {},
     "output_type": "execute_result"
    }
   ],
   "source": [
    "#países desenvolvidos\n",
    "y=desenvolvidos.ExpVida\n",
    "X=desenvolvidos.iloc[:,(1,2)]\n",
    "X=sm.add_constant(X)\n",
    "X.head()\n",
    "\n",
    "model=sm.OLS(y, X)\n",
    "fit=model.fit()\n",
    "fit.summary()"
   ]
  },
  {
   "cell_type": "code",
   "execution_count": 96,
   "metadata": {
    "collapsed": false
   },
   "outputs": [
    {
     "data": {
      "text/html": [
       "<table class=\"simpletable\">\n",
       "<caption>OLS Regression Results</caption>\n",
       "<tr>\n",
       "  <th>Dep. Variable:</th>         <td>ExpVida</td>     <th>  R-squared:         </th> <td>   0.089</td>\n",
       "</tr>\n",
       "<tr>\n",
       "  <th>Model:</th>                   <td>OLS</td>       <th>  Adj. R-squared:    </th> <td>   0.058</td>\n",
       "</tr>\n",
       "<tr>\n",
       "  <th>Method:</th>             <td>Least Squares</td>  <th>  F-statistic:       </th> <td>   2.887</td>\n",
       "</tr>\n",
       "<tr>\n",
       "  <th>Date:</th>             <td>Tue, 06 Dec 2016</td> <th>  Prob (F-statistic):</th>  <td>0.0637</td> \n",
       "</tr>\n",
       "<tr>\n",
       "  <th>Time:</th>                 <td>16:23:27</td>     <th>  Log-Likelihood:    </th> <td> -203.78</td>\n",
       "</tr>\n",
       "<tr>\n",
       "  <th>No. Observations:</th>      <td>    62</td>      <th>  AIC:               </th> <td>   413.6</td>\n",
       "</tr>\n",
       "<tr>\n",
       "  <th>Df Residuals:</th>          <td>    59</td>      <th>  BIC:               </th> <td>   419.9</td>\n",
       "</tr>\n",
       "<tr>\n",
       "  <th>Df Model:</th>              <td>     2</td>      <th>                     </th>     <td> </td>   \n",
       "</tr>\n",
       "<tr>\n",
       "  <th>Covariance Type:</th>      <td>nonrobust</td>    <th>                     </th>     <td> </td>   \n",
       "</tr>\n",
       "</table>\n",
       "<table class=\"simpletable\">\n",
       "<tr>\n",
       "     <td></td>       <th>coef</th>     <th>std err</th>      <th>t</th>      <th>P>|t|</th> <th>[95.0% Conf. Int.]</th> \n",
       "</tr>\n",
       "<tr>\n",
       "  <th>const</th>  <td>   37.3769</td> <td>   30.623</td> <td>    1.221</td> <td> 0.227</td> <td>  -23.901    98.654</td>\n",
       "</tr>\n",
       "<tr>\n",
       "  <th>PIB</th>    <td>    9.0402</td> <td>   15.419</td> <td>    0.586</td> <td> 0.560</td> <td>  -21.812    39.893</td>\n",
       "</tr>\n",
       "<tr>\n",
       "  <th>SupAli</th> <td>    0.0047</td> <td>    0.003</td> <td>    1.711</td> <td> 0.092</td> <td>   -0.001     0.010</td>\n",
       "</tr>\n",
       "</table>\n",
       "<table class=\"simpletable\">\n",
       "<tr>\n",
       "  <th>Omnibus:</th>       <td>23.645</td> <th>  Durbin-Watson:     </th> <td>   2.273</td>\n",
       "</tr>\n",
       "<tr>\n",
       "  <th>Prob(Omnibus):</th> <td> 0.000</td> <th>  Jarque-Bera (JB):  </th> <td>  34.976</td>\n",
       "</tr>\n",
       "<tr>\n",
       "  <th>Skew:</th>          <td>-1.445</td> <th>  Prob(JB):          </th> <td>2.54e-08</td>\n",
       "</tr>\n",
       "<tr>\n",
       "  <th>Kurtosis:</th>      <td> 5.278</td> <th>  Cond. No.          </th> <td>1.13e+05</td>\n",
       "</tr>\n",
       "</table>"
      ],
      "text/plain": [
       "<class 'statsmodels.iolib.summary.Summary'>\n",
       "\"\"\"\n",
       "                            OLS Regression Results                            \n",
       "==============================================================================\n",
       "Dep. Variable:                ExpVida   R-squared:                       0.089\n",
       "Model:                            OLS   Adj. R-squared:                  0.058\n",
       "Method:                 Least Squares   F-statistic:                     2.887\n",
       "Date:                Tue, 06 Dec 2016   Prob (F-statistic):             0.0637\n",
       "Time:                        16:23:27   Log-Likelihood:                -203.78\n",
       "No. Observations:                  62   AIC:                             413.6\n",
       "Df Residuals:                      59   BIC:                             419.9\n",
       "Df Model:                           2                                         \n",
       "Covariance Type:            nonrobust                                         \n",
       "==============================================================================\n",
       "                 coef    std err          t      P>|t|      [95.0% Conf. Int.]\n",
       "------------------------------------------------------------------------------\n",
       "const         37.3769     30.623      1.221      0.227       -23.901    98.654\n",
       "PIB            9.0402     15.419      0.586      0.560       -21.812    39.893\n",
       "SupAli         0.0047      0.003      1.711      0.092        -0.001     0.010\n",
       "==============================================================================\n",
       "Omnibus:                       23.645   Durbin-Watson:                   2.273\n",
       "Prob(Omnibus):                  0.000   Jarque-Bera (JB):               34.976\n",
       "Skew:                          -1.445   Prob(JB):                     2.54e-08\n",
       "Kurtosis:                       5.278   Cond. No.                     1.13e+05\n",
       "==============================================================================\n",
       "\n",
       "Warnings:\n",
       "[1] Standard Errors assume that the covariance matrix of the errors is correctly specified.\n",
       "[2] The condition number is large, 1.13e+05. This might indicate that there are\n",
       "strong multicollinearity or other numerical problems.\n",
       "\"\"\""
      ]
     },
     "execution_count": 96,
     "metadata": {},
     "output_type": "execute_result"
    }
   ],
   "source": [
    "#países em desenvolvimneto\n",
    "y=desenvolvimento.ExpVida\n",
    "X=desenvolvimento.iloc[:,(1,2)]\n",
    "X=sm.add_constant(X)\n",
    "X.head()\n",
    "\n",
    "model=sm.OLS(y, X)\n",
    "fit=model.fit()\n",
    "fit.summary()"
   ]
  },
  {
   "cell_type": "code",
   "execution_count": 97,
   "metadata": {
    "collapsed": false
   },
   "outputs": [
    {
     "data": {
      "text/html": [
       "<table class=\"simpletable\">\n",
       "<caption>OLS Regression Results</caption>\n",
       "<tr>\n",
       "  <th>Dep. Variable:</th>         <td>ExpVida</td>     <th>  R-squared:         </th> <td>   0.041</td>\n",
       "</tr>\n",
       "<tr>\n",
       "  <th>Model:</th>                   <td>OLS</td>       <th>  Adj. R-squared:    </th> <td>  -0.011</td>\n",
       "</tr>\n",
       "<tr>\n",
       "  <th>Method:</th>             <td>Least Squares</td>  <th>  F-statistic:       </th> <td>  0.7953</td>\n",
       "</tr>\n",
       "<tr>\n",
       "  <th>Date:</th>             <td>Tue, 06 Dec 2016</td> <th>  Prob (F-statistic):</th>  <td> 0.459</td> \n",
       "</tr>\n",
       "<tr>\n",
       "  <th>Time:</th>                 <td>16:24:05</td>     <th>  Log-Likelihood:    </th> <td> -126.86</td>\n",
       "</tr>\n",
       "<tr>\n",
       "  <th>No. Observations:</th>      <td>    40</td>      <th>  AIC:               </th> <td>   259.7</td>\n",
       "</tr>\n",
       "<tr>\n",
       "  <th>Df Residuals:</th>          <td>    37</td>      <th>  BIC:               </th> <td>   264.8</td>\n",
       "</tr>\n",
       "<tr>\n",
       "  <th>Df Model:</th>              <td>     2</td>      <th>                     </th>     <td> </td>   \n",
       "</tr>\n",
       "<tr>\n",
       "  <th>Covariance Type:</th>      <td>nonrobust</td>    <th>                     </th>     <td> </td>   \n",
       "</tr>\n",
       "</table>\n",
       "<table class=\"simpletable\">\n",
       "<tr>\n",
       "     <td></td>       <th>coef</th>     <th>std err</th>      <th>t</th>      <th>P>|t|</th> <th>[95.0% Conf. Int.]</th> \n",
       "</tr>\n",
       "<tr>\n",
       "  <th>const</th>  <td>   29.2832</td> <td>   25.318</td> <td>    1.157</td> <td> 0.255</td> <td>  -22.016    80.582</td>\n",
       "</tr>\n",
       "<tr>\n",
       "  <th>PIB</th>    <td>   13.2484</td> <td>   13.639</td> <td>    0.971</td> <td> 0.338</td> <td>  -14.386    40.883</td>\n",
       "</tr>\n",
       "<tr>\n",
       "  <th>SupAli</th> <td>    0.0014</td> <td>    0.004</td> <td>    0.371</td> <td> 0.712</td> <td>   -0.006     0.009</td>\n",
       "</tr>\n",
       "</table>\n",
       "<table class=\"simpletable\">\n",
       "<tr>\n",
       "  <th>Omnibus:</th>       <td> 2.946</td> <th>  Durbin-Watson:     </th> <td>   1.839</td>\n",
       "</tr>\n",
       "<tr>\n",
       "  <th>Prob(Omnibus):</th> <td> 0.229</td> <th>  Jarque-Bera (JB):  </th> <td>   1.963</td>\n",
       "</tr>\n",
       "<tr>\n",
       "  <th>Skew:</th>          <td>-0.519</td> <th>  Prob(JB):          </th> <td>   0.375</td>\n",
       "</tr>\n",
       "<tr>\n",
       "  <th>Kurtosis:</th>      <td> 3.315</td> <th>  Cond. No.          </th> <td>6.81e+04</td>\n",
       "</tr>\n",
       "</table>"
      ],
      "text/plain": [
       "<class 'statsmodels.iolib.summary.Summary'>\n",
       "\"\"\"\n",
       "                            OLS Regression Results                            \n",
       "==============================================================================\n",
       "Dep. Variable:                ExpVida   R-squared:                       0.041\n",
       "Model:                            OLS   Adj. R-squared:                 -0.011\n",
       "Method:                 Least Squares   F-statistic:                    0.7953\n",
       "Date:                Tue, 06 Dec 2016   Prob (F-statistic):              0.459\n",
       "Time:                        16:24:05   Log-Likelihood:                -126.86\n",
       "No. Observations:                  40   AIC:                             259.7\n",
       "Df Residuals:                      37   BIC:                             264.8\n",
       "Df Model:                           2                                         \n",
       "Covariance Type:            nonrobust                                         \n",
       "==============================================================================\n",
       "                 coef    std err          t      P>|t|      [95.0% Conf. Int.]\n",
       "------------------------------------------------------------------------------\n",
       "const         29.2832     25.318      1.157      0.255       -22.016    80.582\n",
       "PIB           13.2484     13.639      0.971      0.338       -14.386    40.883\n",
       "SupAli         0.0014      0.004      0.371      0.712        -0.006     0.009\n",
       "==============================================================================\n",
       "Omnibus:                        2.946   Durbin-Watson:                   1.839\n",
       "Prob(Omnibus):                  0.229   Jarque-Bera (JB):                1.963\n",
       "Skew:                          -0.519   Prob(JB):                        0.375\n",
       "Kurtosis:                       3.315   Cond. No.                     6.81e+04\n",
       "==============================================================================\n",
       "\n",
       "Warnings:\n",
       "[1] Standard Errors assume that the covariance matrix of the errors is correctly specified.\n",
       "[2] The condition number is large, 6.81e+04. This might indicate that there are\n",
       "strong multicollinearity or other numerical problems.\n",
       "\"\"\""
      ]
     },
     "execution_count": 97,
     "metadata": {},
     "output_type": "execute_result"
    }
   ],
   "source": [
    "#países subdesenvolvidos\n",
    "y=subdesenvolvido.ExpVida\n",
    "X=subdesenvolvido.iloc[:,(1,2)]\n",
    "X=sm.add_constant(X)\n",
    "X.head()\n",
    "\n",
    "model=sm.OLS(y, X)\n",
    "fit=model.fit()\n",
    "fit.summary()"
   ]
  },
  {
   "cell_type": "code",
   "execution_count": 99,
   "metadata": {
    "collapsed": false
   },
   "outputs": [
    {
     "data": {
      "text/html": [
       "<table class=\"simpletable\">\n",
       "<caption>OLS Regression Results</caption>\n",
       "<tr>\n",
       "  <th>Dep. Variable:</th>         <td>ExpVida</td>     <th>  R-squared:         </th> <td>   0.623</td>\n",
       "</tr>\n",
       "<tr>\n",
       "  <th>Model:</th>                   <td>OLS</td>       <th>  Adj. R-squared:    </th> <td>   0.618</td>\n",
       "</tr>\n",
       "<tr>\n",
       "  <th>Method:</th>             <td>Least Squares</td>  <th>  F-statistic:       </th> <td>   125.5</td>\n",
       "</tr>\n",
       "<tr>\n",
       "  <th>Date:</th>             <td>Tue, 06 Dec 2016</td> <th>  Prob (F-statistic):</th> <td>6.47e-33</td>\n",
       "</tr>\n",
       "<tr>\n",
       "  <th>Time:</th>                 <td>16:31:14</td>     <th>  Log-Likelihood:    </th> <td> -486.21</td>\n",
       "</tr>\n",
       "<tr>\n",
       "  <th>No. Observations:</th>      <td>   155</td>      <th>  AIC:               </th> <td>   978.4</td>\n",
       "</tr>\n",
       "<tr>\n",
       "  <th>Df Residuals:</th>          <td>   152</td>      <th>  BIC:               </th> <td>   987.5</td>\n",
       "</tr>\n",
       "<tr>\n",
       "  <th>Df Model:</th>              <td>     2</td>      <th>                     </th>     <td> </td>   \n",
       "</tr>\n",
       "<tr>\n",
       "  <th>Covariance Type:</th>      <td>nonrobust</td>    <th>                     </th>     <td> </td>   \n",
       "</tr>\n",
       "</table>\n",
       "<table class=\"simpletable\">\n",
       "<tr>\n",
       "     <td></td>       <th>coef</th>     <th>std err</th>      <th>t</th>      <th>P>|t|</th> <th>[95.0% Conf. Int.]</th> \n",
       "</tr>\n",
       "<tr>\n",
       "  <th>const</th>  <td>  -24.9707</td> <td>    8.692</td> <td>   -2.873</td> <td> 0.005</td> <td>  -42.143    -7.798</td>\n",
       "</tr>\n",
       "<tr>\n",
       "  <th>PIB</th>    <td>   38.1054</td> <td>    5.346</td> <td>    7.127</td> <td> 0.000</td> <td>   27.542    48.668</td>\n",
       "</tr>\n",
       "<tr>\n",
       "  <th>SupAli</th> <td>    0.0041</td> <td>    0.002</td> <td>    2.674</td> <td> 0.008</td> <td>    0.001     0.007</td>\n",
       "</tr>\n",
       "</table>\n",
       "<table class=\"simpletable\">\n",
       "<tr>\n",
       "  <th>Omnibus:</th>       <td>44.765</td> <th>  Durbin-Watson:     </th> <td>   2.089</td>\n",
       "</tr>\n",
       "<tr>\n",
       "  <th>Prob(Omnibus):</th> <td> 0.000</td> <th>  Jarque-Bera (JB):  </th> <td>  90.491</td>\n",
       "</tr>\n",
       "<tr>\n",
       "  <th>Skew:</th>          <td>-1.299</td> <th>  Prob(JB):          </th> <td>2.24e-20</td>\n",
       "</tr>\n",
       "<tr>\n",
       "  <th>Kurtosis:</th>      <td> 5.694</td> <th>  Cond. No.          </th> <td>6.33e+04</td>\n",
       "</tr>\n",
       "</table>"
      ],
      "text/plain": [
       "<class 'statsmodels.iolib.summary.Summary'>\n",
       "\"\"\"\n",
       "                            OLS Regression Results                            \n",
       "==============================================================================\n",
       "Dep. Variable:                ExpVida   R-squared:                       0.623\n",
       "Model:                            OLS   Adj. R-squared:                  0.618\n",
       "Method:                 Least Squares   F-statistic:                     125.5\n",
       "Date:                Tue, 06 Dec 2016   Prob (F-statistic):           6.47e-33\n",
       "Time:                        16:31:14   Log-Likelihood:                -486.21\n",
       "No. Observations:                 155   AIC:                             978.4\n",
       "Df Residuals:                     152   BIC:                             987.5\n",
       "Df Model:                           2                                         \n",
       "Covariance Type:            nonrobust                                         \n",
       "==============================================================================\n",
       "                 coef    std err          t      P>|t|      [95.0% Conf. Int.]\n",
       "------------------------------------------------------------------------------\n",
       "const        -24.9707      8.692     -2.873      0.005       -42.143    -7.798\n",
       "PIB           38.1054      5.346      7.127      0.000        27.542    48.668\n",
       "SupAli         0.0041      0.002      2.674      0.008         0.001     0.007\n",
       "==============================================================================\n",
       "Omnibus:                       44.765   Durbin-Watson:                   2.089\n",
       "Prob(Omnibus):                  0.000   Jarque-Bera (JB):               90.491\n",
       "Skew:                          -1.299   Prob(JB):                     2.24e-20\n",
       "Kurtosis:                       5.694   Cond. No.                     6.33e+04\n",
       "==============================================================================\n",
       "\n",
       "Warnings:\n",
       "[1] Standard Errors assume that the covariance matrix of the errors is correctly specified.\n",
       "[2] The condition number is large, 6.33e+04. This might indicate that there are\n",
       "strong multicollinearity or other numerical problems.\n",
       "\"\"\""
      ]
     },
     "execution_count": 99,
     "metadata": {},
     "output_type": "execute_result"
    }
   ],
   "source": [
    "#todos\n",
    "y=dados1.ExpVida\n",
    "X=dados1.iloc[:,(1,2)]\n",
    "X=sm.add_constant(X)\n",
    "X.head()\n",
    "\n",
    "model=sm.OLS(y, X)\n",
    "fit=model.fit()\n",
    "fit.summary()"
   ]
  },
  {
   "cell_type": "markdown",
   "metadata": {},
   "source": [
    "Após os países serem divididos em subgrupos (desenvolvidos, em desenvolvimento e subdesenvolvidos) analisamos seus coeficientes de determinação $(R^2)$ com base no modelo de regressão (por OLS). Foi observado que, com os países subcategorizados desta forma, os valores não se ajustam bem ao modelo. Os valores obtidos dos coeficientes de determinação foram 0.392 , 0.089 e 0.041 respectivamente para desenvolvidos, em desenvolvimento e subdesenvolvidos. Em suma, conclui-se, que nosso modelo se adequa apenas em uma escala global e não local (em subcategorias)."
   ]
  },
  {
   "cell_type": "markdown",
   "metadata": {},
   "source": [
    "## Conclusão\n",
    "____________"
   ]
  },
  {
   "cell_type": "markdown",
   "metadata": {},
   "source": [
    "Retomando a pergunta feita no início do estudo, \"**Como as condições de vida das pessoas influenciam em suas respectivas expectativas de vida?**\". Com base nas análises observamos que nosso modelo se comportou – de maneira geral – como o esperado. Ou seja, vimos que quanto maior é o suprimento alimentício, maior será a expectativa de determinada população. Da mesma maneira ocorre com o PIB – quanto maior seu PIB, maior sua expectativa de vida.\n",
    "\n",
    "\n",
    "Chegamos a tal conclusão com base em tais resultados:\n",
    "\n",
    "-\tInclinação do plano construído: com a construção do plano que relaciona a variável resposta *expectativa de vida* e as variáveis explicativas  *PIB per capita* e *suprimento alimentício*, pôde-se observar que enquanto qualquer uma das variáveis explicativas aumenta, a expectativa de vida aumentará.\n",
    "\n",
    "-\tModelo de regressão: a partir do modelo de regressão feito, chegou-se em coeficientes angulares do plano ($\\hat{\\beta_1}$ e $\\hat{\\beta_2}$) positivos. Isso significa que haverá uma relação positiva entre as variáveis explicativas e a variável resposta.\n",
    "\n",
    "-\tTeste de hipótese: com o teste feito para $\\hat{\\beta}$ (o qual foi feito de maneira genérica pois valia para $\\hat{\\beta_0}$, $\\hat{\\beta_1}$ e $\\hat{\\beta_2}$), criou-se a hipótese nula ($H_0$) de que o $\\hat{\\beta}$ seria igual a 0 foi rejeitada e, portanto, os coeficientes eram – de fato – influentes em nosso modelo.\n",
    "\n"
   ]
  }
 ],
 "metadata": {
  "kernelspec": {
   "display_name": "Python 3",
   "language": "python",
   "name": "python3"
  },
  "language_info": {
   "codemirror_mode": {
    "name": "ipython",
    "version": 3
   },
   "file_extension": ".py",
   "mimetype": "text/x-python",
   "name": "python",
   "nbconvert_exporter": "python",
   "pygments_lexer": "ipython3",
   "version": "3.5.2"
  }
 },
 "nbformat": 4,
 "nbformat_minor": 0
}
