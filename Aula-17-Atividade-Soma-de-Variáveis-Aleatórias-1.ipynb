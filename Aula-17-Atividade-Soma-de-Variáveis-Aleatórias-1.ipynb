{
 "cells": [
  {
   "cell_type": "markdown",
   "metadata": {},
   "source": [
    "___\n",
    "# Atividade: Soma de variáveis aleatórias \n",
    "___\n",
    "\n",
    "## Aula 17\n",
    "\n",
    "**Preparo Prévio:**\n",
    "1. Seção 5.1 – págs 137 a 140: aborda como fazer uma distribuição de probabilidade conjunta entre duas variáveis aleatórias X e Y e define função de probabilidade conjunta.\n",
    "2. Seção 5.2 – págs 146 a 149; págs 156 e 157 (Exemplo 5.12) e págs 158 a 162 (Exemplo 5.13): aborda propriedades de esperança e variância em soma de variáveis aleatórias (X+Y). \n",
    "\n",
    "**Hoje:**\n",
    "1. Descrever as propriedades de distribuição conjunta entre duas variáveis aleatórias discretas.\n",
    "2. Compreender correlação entre variáveis aleatórias.\n",
    "3. Descrever as propriedades de esperança e variância para soma de variáveis aleatórias (discretas e contínuas).\n",
    "\n",
    "\n",
    "**Próxima aula:**\n",
    "1.\tLeitura prévia necessária: Magalhães e Lima (7ª. Edição): Seção 7.3 (págs 234 a 240).\n",
    "___"
   ]
  },
  {
   "cell_type": "code",
   "execution_count": 125,
   "metadata": {
    "collapsed": false
   },
   "outputs": [],
   "source": [
    "%matplotlib inline\n",
    "\n",
    "import os\n",
    "import matplotlib.pyplot as plt\n",
    "import pandas as pd\n",
    "import numpy as np\n",
    "from scipy import stats\n"
   ]
  },
  {
   "cell_type": "markdown",
   "metadata": {},
   "source": [
    "___\n",
    "## <font color='blue'>Exercício 1 - Exemplo 3 da Aula 17 </font>\n",
    "\n",
    "Num determinado momento em um certo país, a taxa de juros ($X$) pode variar 0,25 pontos percentuais (pp), para cima ou para baixo, ou manter-se constante. \n",
    "Já a taxa de câmbio ($Y$) pode variar para mais ou para menos em 1 pp, ou manter-se constante.\n",
    "A tabela seguinte reflete as distribuições marginais e conjunta dessas duas taxas representadas, aqui, por $X$ e $Y$. \n",
    "\n",
    "![Tabela](XeY.png)\n",
    "\n",
    "Um investidor aplica a mesma quantia num fundo que acompanha a variação da taxa de juros ($X$) e num fundo que acompanha a variação cambial ($Y$). Ao final do dia ele resgatará seu investimento.\n",
    "1. Encontre a $E(X)$, $Var(X)$, $E(Y)$, $Var(Y)$, $Cov(X,Y)$ e $Corr(X,Y)$.\n",
    "2. Construa a distribuição de probabilidades do ganho (em variação %) desse investidor, ou seja, encontre todos os valores de $G=0.5*X+0.5*Y$, sendo $G$ o ganho do investidor aplicando metade do dinheiro em $X$ e metade do dinheiro em $Y$. \n",
    "3. Calcule esperança e variância de $G$ utilizando a distribuição de probabilidade, ou seja, $E(G)$ e $Var(G)$.\n",
    "4. Calcule esperança e variância de $G$ utilizando propriedades de esperança e variância da soma de variáveis aleatórias.\n"
   ]
  },
  {
   "cell_type": "code",
   "execution_count": 126,
   "metadata": {
    "collapsed": false
   },
   "outputs": [
    {
     "name": "stdout",
     "output_type": "stream",
     "text": [
      "[[0.05, 0.07, 0.26], [0.075, 0.21, 0.12], [0.125, 0.07, 0.02]]\n"
     ]
    }
   ],
   "source": [
    "#Valores da tabela\n",
    "y=[-1,0,1] #colunas\n",
    "x=[-0.25,0,0.25] #linhas\n",
    "probXY=[[[] for i in range(3)] for i in range(3)]\n",
    "pxy=[0.05,0.07,0.26,0.075,0.21,0.12,0.125,0.07,0.02]\n",
    "k=0\n",
    "for i in range(3):\n",
    "    for j in range(3):\n",
    "        probXY[i][j]=pxy[k]\n",
    "        k+=1\n",
    "print(probXY)"
   ]
  },
  {
   "cell_type": "code",
   "execution_count": 127,
   "metadata": {
    "collapsed": false
   },
   "outputs": [
    {
     "name": "stdout",
     "output_type": "stream",
     "text": [
      "Probabilidade de X= -0.25  é igual a  0.38\n",
      "Probabilidade de X= 0  é igual a  0.40499999999999997\n",
      "Probabilidade de X= 0.25  é igual a  0.215\n",
      "Esperança de X= -0.04125\n",
      "Variância de X= 0.0354859375\n"
     ]
    }
   ],
   "source": [
    "#item 1 \n",
    "#Distribuição de X\n",
    "probX=[0,0,0]\n",
    "for i in range(3):\n",
    "    for j in range(3):\n",
    "        probX[i]+=probXY[i][j]\n",
    "for i in range(3):\n",
    "    print(\"Probabilidade de X=\",x[i],\" é igual a \", probX[i])\n",
    "\n",
    "espX=0\n",
    "varX=0\n",
    "for i in range(3):\n",
    "    espX+=x[i]*probX[i]\n",
    "for i in range(3):\n",
    "    varX+=(x[i]-espX)**2*probX[i]\n",
    "print(\"Esperança de X=\",espX)\n",
    "print(\"Variância de X=\",varX)\n"
   ]
  },
  {
   "cell_type": "code",
   "execution_count": 128,
   "metadata": {
    "collapsed": false
   },
   "outputs": [
    {
     "name": "stdout",
     "output_type": "stream",
     "text": [
      "Probabilidade de Y= -1  é igual a  0.25\n",
      "Probabilidade de Y= 0  é igual a  0.35000000000000003\n",
      "Probabilidade de Y= 1  é igual a  0.4\n",
      "Esperança de Y= 0.15000000000000002\n",
      "Variância de Y= 0.6275\n"
     ]
    }
   ],
   "source": [
    "#item 1 \n",
    "#Distribuição de Y\n",
    "probY=[0,0,0]\n",
    "for i in range(3):\n",
    "    for j in range(3):\n",
    "        probY[j]+=probXY[i][j]\n",
    "for i in range(3):\n",
    "    print(\"Probabilidade de Y=\",y[i],\" é igual a \", probY[i])\n",
    "\n",
    "espY=0\n",
    "varY=0\n",
    "for i in range(3):\n",
    "    espY+=y[i]*probY[i]\n",
    "for i in range(3):\n",
    "    varY+=(y[i]-espY)**2*probY[i]\n",
    "print(\"Esperança de Y=\",espY)\n",
    "print(\"Variância de Y=\",varY)\n"
   ]
  },
  {
   "cell_type": "code",
   "execution_count": 129,
   "metadata": {
    "collapsed": false
   },
   "outputs": [
    {
     "name": "stdout",
     "output_type": "stream",
     "text": [
      "Covariância entre X e Y= -0.07256249999999999\n",
      "Correlação entre X e Y= -0.4862697238590869\n"
     ]
    }
   ],
   "source": [
    "#item 1\n",
    "#Covariância e Correlação\n",
    "cov=0\n",
    "for i in range(3):\n",
    "    for j in range(3):\n",
    "        cov+=(x[i]-espX)*(y[j]-espY)*probXY[i][j]\n",
    "\n",
    "corr=cov/(varX*varY)**(0.5)\n",
    "print(\"Covariância entre X e Y=\", cov)\n",
    "print(\"Correlação entre X e Y=\", corr)\n"
   ]
  },
  {
   "cell_type": "code",
   "execution_count": 130,
   "metadata": {
    "collapsed": false
   },
   "outputs": [
    {
     "name": "stdout",
     "output_type": "stream",
     "text": [
      "Probabilidade de G= -0.625  é igual a  0.05\n",
      "Probabilidade de G= -0.125  é igual a  0.07\n",
      "Probabilidade de G= 0.375  é igual a  0.26\n",
      "Probabilidade de G= -0.5  é igual a  0.075\n",
      "Probabilidade de G= 0.0  é igual a  0.21\n",
      "Probabilidade de G= 0.5  é igual a  0.12\n",
      "Probabilidade de G= -0.375  é igual a  0.125\n",
      "Probabilidade de G= 0.125  é igual a  0.07\n",
      "Probabilidade de G= 0.625  é igual a  0.02\n"
     ]
    }
   ],
   "source": [
    "#item 2\n",
    "#Distribuição do G=0.5*X +0.5*Y\n",
    "g=[]\n",
    "probG=[]\n",
    "for i in range(3):\n",
    "    for j in range(3):\n",
    "        a = 0.5*x[i]+0.5*y[j]\n",
    "        if a in g:\n",
    "            probG[g.index(a)] += probX[i][j]\n",
    "        else:\n",
    "            g.append(a)         \n",
    "            probG.append(probXY[i][j])\n",
    "\n",
    "for i in range(len(g)):\n",
    "    print(\"Probabilidade de G=\",g[i],\" é igual a \", probG[i])\n"
   ]
  },
  {
   "cell_type": "code",
   "execution_count": 131,
   "metadata": {
    "collapsed": false
   },
   "outputs": [
    {
     "name": "stdout",
     "output_type": "stream",
     "text": [
      "Esperança e variância de G usando distribuição de probabilidade de G:\n",
      "Esperança de G= 0.05437500000000001\n",
      "Variância de G= 0.12946523437500002\n"
     ]
    }
   ],
   "source": [
    "#item 3\n",
    "#Esperança e variância de G\n",
    "espG=0\n",
    "varG=0\n",
    "for i in range(len(g)):\n",
    "    espG+=g[i]*probG[i]\n",
    "for i in range(len(g)):\n",
    "    varG+=(g[i]-espG)**2*probG[i]\n",
    "\n",
    "print(\"Esperança e variância de G usando distribuição de probabilidade de G:\")\n",
    "print(\"Esperança de G=\",espG)\n",
    "print(\"Variância de G=\",varG)"
   ]
  },
  {
   "cell_type": "code",
   "execution_count": 132,
   "metadata": {
    "collapsed": false
   },
   "outputs": [
    {
     "name": "stdout",
     "output_type": "stream",
     "text": [
      "Esperança e variância de G usando propriedades:\n",
      "Esperança de G= 0.05437500000000001\n",
      "Variância de G= 0.129465234375\n"
     ]
    }
   ],
   "source": [
    "#item 4\n",
    "#Esperança e variância de G usando propriedades de soma de variáveis aleatórias\n",
    "\n",
    "#G=0.5X + 0.5Y\n",
    "#G=0.5*(X+Y)\n",
    "\n",
    "espGp = 0.5*(espX+espY)\n",
    "varGp = 0.5**2*(varX+varY+2*cov)\n",
    "\n",
    "print(\"Esperança e variância de G usando propriedades:\")\n",
    "print(\"Esperança de G=\",espGp)\n",
    "print(\"Variância de G=\",varGp)\n"
   ]
  },
  {
   "cell_type": "markdown",
   "metadata": {
    "collapsed": true
   },
   "source": [
    "___\n",
    "## <font color='blue'>Exercício 2 - Soma de normais correlacionadas</font>\n",
    "\n",
    "Um pacote com mil peças de resistor de carbono 1/8w tem o preço distribuído como uma normal com média 21 reais e desvio padrão de 2 reais, ou seja, $X$~$N(21;4)$.\n",
    "\n",
    "Já jumpers/fios macho-fêmea com 40 unidades de 20 cm tem o preço distribuído como uma normal com média 18,90 reais e desvio padrão de 1,50 reais, ou seja, $Y$~$N(18,90;2,25)$.\n",
    "\n",
    "Assuma que a correlação entre esses dois preços seja de 0,85.\n",
    "\n",
    "1. Simule $n=100$, $n=1.000$ e $n=10.000$ de cada variáveis aleatória respeitando a correlação entre elas. Para tanto, consulte o comando `np.random.multivariate_normal(mean, cov, n)`. \n",
    "2. Se você vai passear na Santa Efigênia para comprar um pacote de cada um, calcule a esperança e a variância do gasto $G=X+Y$ com a compra de uma pacotinho de resistores e um jumper nas especificações acima descritos. \n",
    "3. Calcule esperança e variância de $G$ utilizando propriedades de esperança e variância da soma de variáveis aleatórias.\n",
    "4. Construa a distribuição do gasto e verifique se o gasto se assemelha a distribuição normal.\n",
    "5. Repita assumindo correlação igual a zero entre X e Y.\n"
   ]
  },
  {
   "cell_type": "code",
   "execution_count": 133,
   "metadata": {
    "collapsed": false
   },
   "outputs": [],
   "source": [
    "#Informações do enunciado\n",
    "muX = 21\n",
    "varX = 4\n",
    "muY = 18.90\n",
    "varY = 2.25\n",
    "corXY = 0.85\n",
    "covXY = corXY*(varX*varY)**(0.5)\n",
    "mean = [muX, muY]\n",
    "cov = [[varX, covXY], [covXY, varY]]  # diagonal covariance"
   ]
  },
  {
   "cell_type": "code",
   "execution_count": 134,
   "metadata": {
    "collapsed": false
   },
   "outputs": [
    {
     "name": "stdout",
     "output_type": "stream",
     "text": [
      "Matriz de covariâncias a partir dos 100 valores correlacionados:\n",
      "[[ 3.47577735  2.20813217]\n",
      " [ 2.20813217  2.07956108]]\n"
     ]
    }
   ],
   "source": [
    "#item 1\n",
    "n=100\n",
    "x, y = np.random.multivariate_normal(mean, cov, n).T\n",
    "\n",
    "print(\"Matriz de covariâncias a partir dos 100 valores correlacionados:\")\n",
    "print(np.cov(x,y))"
   ]
  },
  {
   "cell_type": "code",
   "execution_count": 135,
   "metadata": {
    "collapsed": false
   },
   "outputs": [
    {
     "name": "stdout",
     "output_type": "stream",
     "text": [
      "Matriz de covariâncias a partir dos 1000 valores correlacionados:\n",
      "[[ 4.15487543  2.70375117]\n",
      " [ 2.70375117  2.42564431]]\n"
     ]
    }
   ],
   "source": [
    "n=1000\n",
    "x, y = np.random.multivariate_normal(mean, cov, n).T\n",
    "\n",
    "print(\"Matriz de covariâncias a partir dos 1000 valores correlacionados:\")\n",
    "print(np.cov(x,y))"
   ]
  },
  {
   "cell_type": "code",
   "execution_count": 136,
   "metadata": {
    "collapsed": false
   },
   "outputs": [
    {
     "name": "stdout",
     "output_type": "stream",
     "text": [
      "Matriz de covariâncias a partir dos 10000 valores correlacionados:\n",
      "[[ 4.08659718  2.59893926]\n",
      " [ 2.59893926  2.29094568]]\n"
     ]
    }
   ],
   "source": [
    "n=10000\n",
    "x, y = np.random.multivariate_normal(mean, cov, n).T\n",
    "\n",
    "print(\"Matriz de covariâncias a partir dos 10000 valores correlacionados:\")\n",
    "print(np.cov(x,y))"
   ]
  },
  {
   "cell_type": "code",
   "execution_count": 137,
   "metadata": {
    "collapsed": false
   },
   "outputs": [
    {
     "name": "stdout",
     "output_type": "stream",
     "text": [
      "Esperança do gasto:  39.8909428979\n",
      "Variancia do Gasto:  11.5742638403\n"
     ]
    }
   ],
   "source": [
    "#item 2\n",
    "G=[]\n",
    "for i in range(10000):\n",
    "    G.append(x[i]+y[i])\n",
    "\n",
    "soma = 0\n",
    "\n",
    "for e in G:\n",
    "    soma += e\n",
    "    \n",
    "esperanca = soma/10000\n",
    "\n",
    "print(\"Esperança do gasto: \", esperanca)\n",
    "\n",
    "var = 0\n",
    "\n",
    "for e in G:\n",
    "    var += (e - esperanca)**2\n",
    "\n",
    "var = var/10000\n",
    "\n",
    "print(\"Variancia do Gasto: \", var)"
   ]
  },
  {
   "cell_type": "code",
   "execution_count": 138,
   "metadata": {
    "collapsed": false
   },
   "outputs": [
    {
     "name": "stdout",
     "output_type": "stream",
     "text": [
      "Esperança do gasto:  39.9\n",
      "Variancia do gasto:  11.35\n"
     ]
    }
   ],
   "source": [
    "#item 3\n",
    "espG = muX + muY\n",
    "print(\"Esperança do gasto: \", espG)\n",
    "\n",
    "varG = varX + varY + 2*covXY\n",
    "print(\"Variancia do gasto: \", varG)"
   ]
  },
  {
   "cell_type": "code",
   "execution_count": 139,
   "metadata": {
    "collapsed": false
   },
   "outputs": [
    {
     "data": {
      "text/plain": [
       "(array([   1.,    0.,    0.,    0.,    2.,    3.,    2.,    4.,    4.,\n",
       "           6.,    0.,    5.,    9.,    8.,   13.,   20.,   17.,   18.,\n",
       "          19.,   30.,   38.,   44.,   47.,   50.,   68.,   66.,   76.,\n",
       "          85.,   96.,  133.,  157.,  149.,  151.,  179.,  198.,  187.,\n",
       "         206.,  244.,  235.,  264.,  249.,  265.,  268.,  273.,  296.,\n",
       "         319.,  294.,  289.,  317.,  312.,  300.,  310.,  265.,  258.,\n",
       "         255.,  254.,  251.,  240.,  224.,  193.,  186.,  170.,  170.,\n",
       "         159.,  136.,  129.,  101.,  102.,   84.,   76.,   70.,   65.,\n",
       "          60.,   33.,   40.,   19.,   25.,   24.,   19.,   15.,   12.,\n",
       "          10.,    4.,    7.,    5.,    2.,    3.,    0.,    3.,    1.,\n",
       "           1.,    2.,    0.,    0.,    0.,    0.,    0.,    0.,    0.,    1.]),\n",
       " array([ 27.41042884,  27.67249349,  27.93455813,  28.19662278,\n",
       "         28.45868743,  28.72075207,  28.98281672,  29.24488137,\n",
       "         29.50694601,  29.76901066,  30.03107531,  30.29313996,\n",
       "         30.5552046 ,  30.81726925,  31.0793339 ,  31.34139854,\n",
       "         31.60346319,  31.86552784,  32.12759249,  32.38965713,\n",
       "         32.65172178,  32.91378643,  33.17585107,  33.43791572,\n",
       "         33.69998037,  33.96204501,  34.22410966,  34.48617431,\n",
       "         34.74823896,  35.0103036 ,  35.27236825,  35.5344329 ,\n",
       "         35.79649754,  36.05856219,  36.32062684,  36.58269149,\n",
       "         36.84475613,  37.10682078,  37.36888543,  37.63095007,\n",
       "         37.89301472,  38.15507937,  38.41714401,  38.67920866,\n",
       "         38.94127331,  39.20333796,  39.4654026 ,  39.72746725,\n",
       "         39.9895319 ,  40.25159654,  40.51366119,  40.77572584,\n",
       "         41.03779049,  41.29985513,  41.56191978,  41.82398443,\n",
       "         42.08604907,  42.34811372,  42.61017837,  42.87224301,\n",
       "         43.13430766,  43.39637231,  43.65843696,  43.9205016 ,\n",
       "         44.18256625,  44.4446309 ,  44.70669554,  44.96876019,\n",
       "         45.23082484,  45.49288949,  45.75495413,  46.01701878,\n",
       "         46.27908343,  46.54114807,  46.80321272,  47.06527737,\n",
       "         47.32734201,  47.58940666,  47.85147131,  48.11353596,\n",
       "         48.3756006 ,  48.63766525,  48.8997299 ,  49.16179454,\n",
       "         49.42385919,  49.68592384,  49.94798849,  50.21005313,\n",
       "         50.47211778,  50.73418243,  50.99624707,  51.25831172,\n",
       "         51.52037637,  51.78244101,  52.04450566,  52.30657031,\n",
       "         52.56863496,  52.8306996 ,  53.09276425,  53.3548289 ,  53.61689354]),\n",
       " <a list of 100 Patch objects>)"
      ]
     },
     "execution_count": 139,
     "metadata": {},
     "output_type": "execute_result"
    },
    {
     "data": {
      "image/png": "[encoded data removed]",
      "text/plain": [
       "<matplotlib.figure.Figure at 0x13bb44da978>"
      ]
     },
     "metadata": {},
     "output_type": "display_data"
    }
   ],
   "source": [
    "#item 4\n",
    "\n",
    "plt.hist(G, bins=100)\n"
   ]
  },
  {
   "cell_type": "code",
   "execution_count": 140,
   "metadata": {
    "collapsed": true
   },
   "outputs": [],
   "source": [
    "# REPETINDO COM CORRELAÇÃO IGUAL A 0\n",
    "\n",
    "muX = 21\n",
    "varX = 4\n",
    "muY = 18.90\n",
    "varY = 2.25\n",
    "corXY = 0\n",
    "covXY = corXY*(varX*varY)**(0.5)\n",
    "mean = [muX, muY]\n",
    "cov = [[varX, covXY], [covXY, varY]]  # diagonal covariance"
   ]
  },
  {
   "cell_type": "code",
   "execution_count": 141,
   "metadata": {
    "collapsed": false
   },
   "outputs": [
    {
     "name": "stdout",
     "output_type": "stream",
     "text": [
      "Matriz de covariâncias a partir dos 100 valores correlacionados:\n",
      "[[ 4.15555539  0.16466284]\n",
      " [ 0.16466284  2.32949772]]\n"
     ]
    }
   ],
   "source": [
    "#item 1 DE NOVO\n",
    "n=100\n",
    "x, y = np.random.multivariate_normal(mean, cov, n).T\n",
    "\n",
    "print(\"Matriz de covariâncias a partir dos 100 valores correlacionados:\")\n",
    "print(np.cov(x,y))"
   ]
  },
  {
   "cell_type": "code",
   "execution_count": 142,
   "metadata": {
    "collapsed": false
   },
   "outputs": [
    {
     "name": "stdout",
     "output_type": "stream",
     "text": [
      "Matriz de covariâncias a partir dos 1000 valores correlacionados:\n",
      "[[ 4.05395678 -0.10875755]\n",
      " [-0.10875755  2.16970226]]\n"
     ]
    }
   ],
   "source": [
    "n=1000\n",
    "x, y = np.random.multivariate_normal(mean, cov, n).T\n",
    "\n",
    "print(\"Matriz de covariâncias a partir dos 1000 valores correlacionados:\")\n",
    "print(np.cov(x,y))"
   ]
  },
  {
   "cell_type": "code",
   "execution_count": 143,
   "metadata": {
    "collapsed": false
   },
   "outputs": [
    {
     "name": "stdout",
     "output_type": "stream",
     "text": [
      "Matriz de covariâncias a partir dos 10000 valores correlacionados:\n",
      "[[ 3.99172231 -0.0072454 ]\n",
      " [-0.0072454   2.22686162]]\n"
     ]
    }
   ],
   "source": [
    "n=10000\n",
    "x, y = np.random.multivariate_normal(mean, cov, n).T\n",
    "\n",
    "print(\"Matriz de covariâncias a partir dos 10000 valores correlacionados:\")\n",
    "print(np.cov(x,y))\n"
   ]
  },
  {
   "cell_type": "code",
   "execution_count": 144,
   "metadata": {
    "collapsed": false
   },
   "outputs": [
    {
     "name": "stdout",
     "output_type": "stream",
     "text": [
      "Esperança do gasto:  39.9046201313\n",
      "Variancia do Gasto:  6.20347273076\n"
     ]
    }
   ],
   "source": [
    "#item 2 DE NOVO\n",
    "\n",
    "G=[]\n",
    "for i in range(10000):\n",
    "    G.append(x[i]+y[i])\n",
    "\n",
    "soma = 0\n",
    "\n",
    "for e in G:\n",
    "    soma += e\n",
    "    \n",
    "esperanca = soma/10000\n",
    "\n",
    "print(\"Esperança do gasto: \", esperanca)\n",
    "\n",
    "var = 0\n",
    "\n",
    "for e in G:\n",
    "    var += (e - esperanca)**2\n",
    "\n",
    "var = var/10000\n",
    "\n",
    "print(\"Variancia do Gasto: \", var)"
   ]
  },
  {
   "cell_type": "code",
   "execution_count": 145,
   "metadata": {
    "collapsed": false
   },
   "outputs": [
    {
     "name": "stdout",
     "output_type": "stream",
     "text": [
      "Esperança do gasto:  39.9\n",
      "Variancia do gasto:  6.25\n"
     ]
    }
   ],
   "source": [
    "#item 3 DE NOVO\n",
    "espG = muX + muY\n",
    "print(\"Esperança do gasto: \", espG)\n",
    "\n",
    "varG = varX + varY + 2*covXY\n",
    "print(\"Variancia do gasto: \", varG)"
   ]
  },
  {
   "cell_type": "code",
   "execution_count": 146,
   "metadata": {
    "collapsed": false
   },
   "outputs": [
    {
     "data": {
      "text/plain": [
       "(array([   2.,    0.,    0.,    2.,    2.,    3.,    2.,    4.,    5.,\n",
       "           4.,    7.,    5.,    6.,   15.,   12.,    9.,   13.,   14.,\n",
       "          23.,   23.,   45.,   38.,   51.,   55.,   63.,   72.,   86.,\n",
       "          73.,   99.,   96.,  141.,  119.,  140.,  162.,  146.,  179.,\n",
       "         194.,  205.,  248.,  263.,  244.,  243.,  295.,  287.,  313.,\n",
       "         296.,  286.,  303.,  303.,  304.,  277.,  298.,  278.,  239.,\n",
       "         285.,  282.,  249.,  220.,  200.,  213.,  193.,  171.,  158.,\n",
       "         135.,  158.,  164.,  120.,  123.,   96.,   92.,   89.,   70.,\n",
       "          56.,   47.,   36.,   52.,   39.,   20.,   21.,   19.,   23.,\n",
       "           8.,   17.,   11.,    7.,    7.,    6.,    7.,    3.,    3.,\n",
       "           1.,    1.,    1.,    1.,    1.,    0.,    0.,    2.,    0.,    1.]),\n",
       " array([ 30.89626484,  31.08198929,  31.26771373,  31.45343817,\n",
       "         31.63916262,  31.82488706,  32.0106115 ,  32.19633594,\n",
       "         32.38206039,  32.56778483,  32.75350927,  32.93923372,\n",
       "         33.12495816,  33.3106826 ,  33.49640705,  33.68213149,\n",
       "         33.86785593,  34.05358037,  34.23930482,  34.42502926,\n",
       "         34.6107537 ,  34.79647815,  34.98220259,  35.16792703,\n",
       "         35.35365147,  35.53937592,  35.72510036,  35.9108248 ,\n",
       "         36.09654925,  36.28227369,  36.46799813,  36.65372258,\n",
       "         36.83944702,  37.02517146,  37.2108959 ,  37.39662035,\n",
       "         37.58234479,  37.76806923,  37.95379368,  38.13951812,\n",
       "         38.32524256,  38.51096701,  38.69669145,  38.88241589,\n",
       "         39.06814033,  39.25386478,  39.43958922,  39.62531366,\n",
       "         39.81103811,  39.99676255,  40.18248699,  40.36821144,\n",
       "         40.55393588,  40.73966032,  40.92538476,  41.11110921,\n",
       "         41.29683365,  41.48255809,  41.66828254,  41.85400698,\n",
       "         42.03973142,  42.22545586,  42.41118031,  42.59690475,\n",
       "         42.78262919,  42.96835364,  43.15407808,  43.33980252,\n",
       "         43.52552697,  43.71125141,  43.89697585,  44.08270029,\n",
       "         44.26842474,  44.45414918,  44.63987362,  44.82559807,\n",
       "         45.01132251,  45.19704695,  45.3827714 ,  45.56849584,\n",
       "         45.75422028,  45.93994472,  46.12566917,  46.31139361,\n",
       "         46.49711805,  46.6828425 ,  46.86856694,  47.05429138,\n",
       "         47.24001583,  47.42574027,  47.61146471,  47.79718915,\n",
       "         47.9829136 ,  48.16863804,  48.35436248,  48.54008693,\n",
       "         48.72581137,  48.91153581,  49.09726025,  49.2829847 ,  49.46870914]),\n",
       " <a list of 100 Patch objects>)"
      ]
     },
     "execution_count": 146,
     "metadata": {},
     "output_type": "execute_result"
    },
    {
     "data": {
      "image/png": "[encoded data removed]",
      "text/plain": [
       "<matplotlib.figure.Figure at 0x13bb476b160>"
      ]
     },
     "metadata": {},
     "output_type": "display_data"
    }
   ],
   "source": [
    "#item 4 DE NOVO\n",
    "plt.hist(G, bins=100)\n"
   ]
  },
  {
   "cell_type": "code",
   "execution_count": null,
   "metadata": {
    "collapsed": true
   },
   "outputs": [],
   "source": []
  },
  {
   "cell_type": "code",
   "execution_count": null,
   "metadata": {
    "collapsed": true
   },
   "outputs": [],
   "source": []
  }
 ],
 "metadata": {
  "anaconda-cloud": {},
  "kernelspec": {
   "display_name": "Python 3",
   "language": "python",
   "name": "python3"
  },
  "language_info": {
   "codemirror_mode": {
    "name": "ipython",
    "version": 3
   },
   "file_extension": ".py",
   "mimetype": "text/x-python",
   "name": "python",
   "nbconvert_exporter": "python",
   "pygments_lexer": "ipython3",
   "version": "3.5.1"
  }
 },
 "nbformat": 4,
 "nbformat_minor": 0
}
